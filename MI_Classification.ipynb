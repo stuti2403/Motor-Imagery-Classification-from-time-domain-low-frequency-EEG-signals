{
 "cells": [
  {
   "cell_type": "code",
   "execution_count": 1,
   "id": "6d587e15",
   "metadata": {},
   "outputs": [],
   "source": [
    "import numpy as np\n",
    "import mne\n",
    "import matplotlib.pyplot as plt\n",
    "%matplotlib inline"
   ]
  },
  {
   "cell_type": "code",
   "execution_count": null,
   "id": "62e8fc58",
   "metadata": {},
   "outputs": [
    {
     "name": "stdout",
     "output_type": "stream",
     "text": [
      "Extracting EDF parameters from /Users/navtegh/Downloads/EEG_Dataset/Dataset_EEG/S02_ME/motorexecution_subject2_run1.gdf...\n",
      "GDF file detected\n",
      "Setting channel info structure...\n",
      "Could not determine channel type of the following channels, they will be set as EEG:\n",
      "F3, F1, Fz, F2, F4, FFC5h, FFC3h, FFC1h, FFC2h, FFC4h, FFC6h, FC5, FC3, FC1, FCz, FC2, FC4, FC6, FTT7h, FCC5h, FCC3h, FCC1h, FCC2h, FCC4h, FCC6h, FTT8h, C5, C3, C1, Cz, C2, C4, C6, TTP7h, CCP5h, CCP3h, CCP1h, CCP2h, CCP4h, CCP6h, TTP8h, CP5, CP3, CP1, CPz, CP2, CP4, CP6, CPP5h, CPP3h, CPP1h, CPP2h, CPP4h, CPP6h, P3, P1, Pz, P2, P4, PPO1h, PPO2h, eog-l, eog-m, eog-r, thumb_near, thumb_far, thumb_index, index_near, index_far, index_middle, middle_near, middle_far, middle_ring, ring_near, ring_far, ring_little, litte_near, litte_far, thumb_palm, wrist_bend, roll, pitch, gesture, handPosX, handPosY, handPosZ, elbowPosX, elbowPosY, elbowPosZ, ShoulderAdductio, ShoulderFlexionE, ShoulderRotation, Elbow, ProSupination, Wrist, GripPressure\n",
      "Creating raw.info structure...\n",
      "Reading 0 ... 164863  =      0.000 ...   321.998 secs...\n",
      "Extracting EDF parameters from /Users/navtegh/Downloads/EEG_Dataset/Dataset_EEG/S02_ME/motorexecution_subject2_run2.gdf...\n",
      "GDF file detected\n",
      "Setting channel info structure...\n",
      "Could not determine channel type of the following channels, they will be set as EEG:\n",
      "F3, F1, Fz, F2, F4, FFC5h, FFC3h, FFC1h, FFC2h, FFC4h, FFC6h, FC5, FC3, FC1, FCz, FC2, FC4, FC6, FTT7h, FCC5h, FCC3h, FCC1h, FCC2h, FCC4h, FCC6h, FTT8h, C5, C3, C1, Cz, C2, C4, C6, TTP7h, CCP5h, CCP3h, CCP1h, CCP2h, CCP4h, CCP6h, TTP8h, CP5, CP3, CP1, CPz, CP2, CP4, CP6, CPP5h, CPP3h, CPP1h, CPP2h, CPP4h, CPP6h, P3, P1, Pz, P2, P4, PPO1h, PPO2h, eog-l, eog-m, eog-r, thumb_near, thumb_far, thumb_index, index_near, index_far, index_middle, middle_near, middle_far, middle_ring, ring_near, ring_far, ring_little, litte_near, litte_far, thumb_palm, wrist_bend, roll, pitch, gesture, handPosX, handPosY, handPosZ, elbowPosX, elbowPosY, elbowPosZ, ShoulderAdductio, ShoulderFlexionE, ShoulderRotation, Elbow, ProSupination, Wrist, GripPressure\n",
      "Creating raw.info structure...\n",
      "Reading 0 ... 165887  =      0.000 ...   323.998 secs...\n",
      "Extracting EDF parameters from /Users/navtegh/Downloads/EEG_Dataset/Dataset_EEG/S02_ME/motorexecution_subject2_run3.gdf...\n",
      "GDF file detected\n",
      "Setting channel info structure...\n",
      "Could not determine channel type of the following channels, they will be set as EEG:\n",
      "F3, F1, Fz, F2, F4, FFC5h, FFC3h, FFC1h, FFC2h, FFC4h, FFC6h, FC5, FC3, FC1, FCz, FC2, FC4, FC6, FTT7h, FCC5h, FCC3h, FCC1h, FCC2h, FCC4h, FCC6h, FTT8h, C5, C3, C1, Cz, C2, C4, C6, TTP7h, CCP5h, CCP3h, CCP1h, CCP2h, CCP4h, CCP6h, TTP8h, CP5, CP3, CP1, CPz, CP2, CP4, CP6, CPP5h, CPP3h, CPP1h, CPP2h, CPP4h, CPP6h, P3, P1, Pz, P2, P4, PPO1h, PPO2h, eog-l, eog-m, eog-r, thumb_near, thumb_far, thumb_index, index_near, index_far, index_middle, middle_near, middle_far, middle_ring, ring_near, ring_far, ring_little, litte_near, litte_far, thumb_palm, wrist_bend, roll, pitch, gesture, handPosX, handPosY, handPosZ, elbowPosX, elbowPosY, elbowPosZ, ShoulderAdductio, ShoulderFlexionE, ShoulderRotation, Elbow, ProSupination, Wrist, GripPressure\n",
      "Creating raw.info structure...\n",
      "Reading 0 ... 165887  =      0.000 ...   323.998 secs...\n",
      "Extracting EDF parameters from /Users/navtegh/Downloads/EEG_Dataset/Dataset_EEG/S02_ME/motorexecution_subject2_run4.gdf...\n",
      "GDF file detected\n",
      "Setting channel info structure...\n",
      "Could not determine channel type of the following channels, they will be set as EEG:\n",
      "F3, F1, Fz, F2, F4, FFC5h, FFC3h, FFC1h, FFC2h, FFC4h, FFC6h, FC5, FC3, FC1, FCz, FC2, FC4, FC6, FTT7h, FCC5h, FCC3h, FCC1h, FCC2h, FCC4h, FCC6h, FTT8h, C5, C3, C1, Cz, C2, C4, C6, TTP7h, CCP5h, CCP3h, CCP1h, CCP2h, CCP4h, CCP6h, TTP8h, CP5, CP3, CP1, CPz, CP2, CP4, CP6, CPP5h, CPP3h, CPP1h, CPP2h, CPP4h, CPP6h, P3, P1, Pz, P2, P4, PPO1h, PPO2h, eog-l, eog-m, eog-r, thumb_near, thumb_far, thumb_index, index_near, index_far, index_middle, middle_near, middle_far, middle_ring, ring_near, ring_far, ring_little, litte_near, litte_far, thumb_palm, wrist_bend, roll, pitch, gesture, handPosX, handPosY, handPosZ, elbowPosX, elbowPosY, elbowPosZ, ShoulderAdductio, ShoulderFlexionE, ShoulderRotation, Elbow, ProSupination, Wrist, GripPressure\n",
      "Creating raw.info structure...\n",
      "Reading 0 ... 165375  =      0.000 ...   322.998 secs...\n",
      "Extracting EDF parameters from /Users/navtegh/Downloads/EEG_Dataset/Dataset_EEG/S02_ME/motorexecution_subject2_run5.gdf...\n",
      "GDF file detected\n",
      "Setting channel info structure...\n",
      "Could not determine channel type of the following channels, they will be set as EEG:\n",
      "F3, F1, Fz, F2, F4, FFC5h, FFC3h, FFC1h, FFC2h, FFC4h, FFC6h, FC5, FC3, FC1, FCz, FC2, FC4, FC6, FTT7h, FCC5h, FCC3h, FCC1h, FCC2h, FCC4h, FCC6h, FTT8h, C5, C3, C1, Cz, C2, C4, C6, TTP7h, CCP5h, CCP3h, CCP1h, CCP2h, CCP4h, CCP6h, TTP8h, CP5, CP3, CP1, CPz, CP2, CP4, CP6, CPP5h, CPP3h, CPP1h, CPP2h, CPP4h, CPP6h, P3, P1, Pz, P2, P4, PPO1h, PPO2h, eog-l, eog-m, eog-r, thumb_near, thumb_far, thumb_index, index_near, index_far, index_middle, middle_near, middle_far, middle_ring, ring_near, ring_far, ring_little, litte_near, litte_far, thumb_palm, wrist_bend, roll, pitch, gesture, handPosX, handPosY, handPosZ, elbowPosX, elbowPosY, elbowPosZ, ShoulderAdductio, ShoulderFlexionE, ShoulderRotation, Elbow, ProSupination, Wrist, GripPressure\n",
      "Creating raw.info structure...\n",
      "Reading 0 ... 165887  =      0.000 ...   323.998 secs...\n",
      "Extracting EDF parameters from /Users/navtegh/Downloads/EEG_Dataset/Dataset_EEG/S02_ME/motorexecution_subject2_run6.gdf...\n",
      "GDF file detected\n",
      "Setting channel info structure...\n",
      "Could not determine channel type of the following channels, they will be set as EEG:\n",
      "F3, F1, Fz, F2, F4, FFC5h, FFC3h, FFC1h, FFC2h, FFC4h, FFC6h, FC5, FC3, FC1, FCz, FC2, FC4, FC6, FTT7h, FCC5h, FCC3h, FCC1h, FCC2h, FCC4h, FCC6h, FTT8h, C5, C3, C1, Cz, C2, C4, C6, TTP7h, CCP5h, CCP3h, CCP1h, CCP2h, CCP4h, CCP6h, TTP8h, CP5, CP3, CP1, CPz, CP2, CP4, CP6, CPP5h, CPP3h, CPP1h, CPP2h, CPP4h, CPP6h, P3, P1, Pz, P2, P4, PPO1h, PPO2h, eog-l, eog-m, eog-r, thumb_near, thumb_far, thumb_index, index_near, index_far, index_middle, middle_near, middle_far, middle_ring, ring_near, ring_far, ring_little, litte_near, litte_far, thumb_palm, wrist_bend, roll, pitch, gesture, handPosX, handPosY, handPosZ, elbowPosX, elbowPosY, elbowPosZ, ShoulderAdductio, ShoulderFlexionE, ShoulderRotation, Elbow, ProSupination, Wrist, GripPressure\n",
      "Creating raw.info structure...\n",
      "Reading 0 ... 167423  =      0.000 ...   326.998 secs...\n",
      "Extracting EDF parameters from /Users/navtegh/Downloads/EEG_Dataset/Dataset_EEG/S02_ME/motorexecution_subject2_run7.gdf...\n",
      "GDF file detected\n",
      "Setting channel info structure...\n",
      "Could not determine channel type of the following channels, they will be set as EEG:\n",
      "F3, F1, Fz, F2, F4, FFC5h, FFC3h, FFC1h, FFC2h, FFC4h, FFC6h, FC5, FC3, FC1, FCz, FC2, FC4, FC6, FTT7h, FCC5h, FCC3h, FCC1h, FCC2h, FCC4h, FCC6h, FTT8h, C5, C3, C1, Cz, C2, C4, C6, TTP7h, CCP5h, CCP3h, CCP1h, CCP2h, CCP4h, CCP6h, TTP8h, CP5, CP3, CP1, CPz, CP2, CP4, CP6, CPP5h, CPP3h, CPP1h, CPP2h, CPP4h, CPP6h, P3, P1, Pz, P2, P4, PPO1h, PPO2h, eog-l, eog-m, eog-r, thumb_near, thumb_far, thumb_index, index_near, index_far, index_middle, middle_near, middle_far, middle_ring, ring_near, ring_far, ring_little, litte_near, litte_far, thumb_palm, wrist_bend, roll, pitch, gesture, handPosX, handPosY, handPosZ, elbowPosX, elbowPosY, elbowPosZ, ShoulderAdductio, ShoulderFlexionE, ShoulderRotation, Elbow, ProSupination, Wrist, GripPressure\n",
      "Creating raw.info structure...\n",
      "Reading 0 ... 167935  =      0.000 ...   327.998 secs...\n",
      "Extracting EDF parameters from /Users/navtegh/Downloads/EEG_Dataset/Dataset_EEG/S02_ME/motorexecution_subject2_run8.gdf...\n",
      "GDF file detected\n",
      "Setting channel info structure...\n",
      "Could not determine channel type of the following channels, they will be set as EEG:\n",
      "F3, F1, Fz, F2, F4, FFC5h, FFC3h, FFC1h, FFC2h, FFC4h, FFC6h, FC5, FC3, FC1, FCz, FC2, FC4, FC6, FTT7h, FCC5h, FCC3h, FCC1h, FCC2h, FCC4h, FCC6h, FTT8h, C5, C3, C1, Cz, C2, C4, C6, TTP7h, CCP5h, CCP3h, CCP1h, CCP2h, CCP4h, CCP6h, TTP8h, CP5, CP3, CP1, CPz, CP2, CP4, CP6, CPP5h, CPP3h, CPP1h, CPP2h, CPP4h, CPP6h, P3, P1, Pz, P2, P4, PPO1h, PPO2h, eog-l, eog-m, eog-r, thumb_near, thumb_far, thumb_index, index_near, index_far, index_middle, middle_near, middle_far, middle_ring, ring_near, ring_far, ring_little, litte_near, litte_far, thumb_palm, wrist_bend, roll, pitch, gesture, handPosX, handPosY, handPosZ, elbowPosX, elbowPosY, elbowPosZ, ShoulderAdductio, ShoulderFlexionE, ShoulderRotation, Elbow, ProSupination, Wrist, GripPressure\n"
     ]
    },
    {
     "name": "stdout",
     "output_type": "stream",
     "text": [
      "Creating raw.info structure...\n",
      "Reading 0 ... 168447  =      0.000 ...   328.998 secs...\n",
      "Extracting EDF parameters from /Users/navtegh/Downloads/EEG_Dataset/Dataset_EEG/S02_ME/motorexecution_subject2_run9.gdf...\n",
      "GDF file detected\n",
      "Setting channel info structure...\n",
      "Could not determine channel type of the following channels, they will be set as EEG:\n",
      "F3, F1, Fz, F2, F4, FFC5h, FFC3h, FFC1h, FFC2h, FFC4h, FFC6h, FC5, FC3, FC1, FCz, FC2, FC4, FC6, FTT7h, FCC5h, FCC3h, FCC1h, FCC2h, FCC4h, FCC6h, FTT8h, C5, C3, C1, Cz, C2, C4, C6, TTP7h, CCP5h, CCP3h, CCP1h, CCP2h, CCP4h, CCP6h, TTP8h, CP5, CP3, CP1, CPz, CP2, CP4, CP6, CPP5h, CPP3h, CPP1h, CPP2h, CPP4h, CPP6h, P3, P1, Pz, P2, P4, PPO1h, PPO2h, eog-l, eog-m, eog-r, thumb_near, thumb_far, thumb_index, index_near, index_far, index_middle, middle_near, middle_far, middle_ring, ring_near, ring_far, ring_little, litte_near, litte_far, thumb_palm, wrist_bend, roll, pitch, gesture, handPosX, handPosY, handPosZ, elbowPosX, elbowPosY, elbowPosZ, ShoulderAdductio, ShoulderFlexionE, ShoulderRotation, Elbow, ProSupination, Wrist, GripPressure\n",
      "Creating raw.info structure...\n",
      "Reading 0 ... 165375  =      0.000 ...   322.998 secs...\n",
      "Extracting EDF parameters from /Users/navtegh/Downloads/EEG_Dataset/Dataset_EEG/S03_ME/motorexecution_subject3_run1.gdf...\n",
      "GDF file detected\n",
      "Setting channel info structure...\n",
      "Could not determine channel type of the following channels, they will be set as EEG:\n",
      "F3, F1, Fz, F2, F4, FFC5h, FFC3h, FFC1h, FFC2h, FFC4h, FFC6h, FC5, FC3, FC1, FCz, FC2, FC4, FC6, FTT7h, FCC5h, FCC3h, FCC1h, FCC2h, FCC4h, FCC6h, FTT8h, C5, C3, C1, Cz, C2, C4, C6, TTP7h, CCP5h, CCP3h, CCP1h, CCP2h, CCP4h, CCP6h, TTP8h, CP5, CP3, CP1, CPz, CP2, CP4, CP6, CPP5h, CPP3h, CPP1h, CPP2h, CPP4h, CPP6h, P3, P1, Pz, P2, P4, PPO1h, PPO2h, eog-l, eog-m, eog-r, thumb_near, thumb_far, thumb_index, index_near, index_far, index_middle, middle_near, middle_far, middle_ring, ring_near, ring_far, ring_little, litte_near, litte_far, thumb_palm, wrist_bend, roll, pitch, gesture, handPosX, handPosY, handPosZ, elbowPosX, elbowPosY, elbowPosZ, ShoulderAdductio, ShoulderFlexionE, ShoulderRotation, Elbow, ProSupination, Wrist, GripPressure\n",
      "Creating raw.info structure...\n",
      "Reading 0 ... 168447  =      0.000 ...   328.998 secs...\n",
      "Extracting EDF parameters from /Users/navtegh/Downloads/EEG_Dataset/Dataset_EEG/S03_ME/motorexecution_subject3_run2.gdf...\n",
      "GDF file detected\n",
      "Setting channel info structure...\n",
      "Could not determine channel type of the following channels, they will be set as EEG:\n",
      "F3, F1, Fz, F2, F4, FFC5h, FFC3h, FFC1h, FFC2h, FFC4h, FFC6h, FC5, FC3, FC1, FCz, FC2, FC4, FC6, FTT7h, FCC5h, FCC3h, FCC1h, FCC2h, FCC4h, FCC6h, FTT8h, C5, C3, C1, Cz, C2, C4, C6, TTP7h, CCP5h, CCP3h, CCP1h, CCP2h, CCP4h, CCP6h, TTP8h, CP5, CP3, CP1, CPz, CP2, CP4, CP6, CPP5h, CPP3h, CPP1h, CPP2h, CPP4h, CPP6h, P3, P1, Pz, P2, P4, PPO1h, PPO2h, eog-l, eog-m, eog-r, thumb_near, thumb_far, thumb_index, index_near, index_far, index_middle, middle_near, middle_far, middle_ring, ring_near, ring_far, ring_little, litte_near, litte_far, thumb_palm, wrist_bend, roll, pitch, gesture, handPosX, handPosY, handPosZ, elbowPosX, elbowPosY, elbowPosZ, ShoulderAdductio, ShoulderFlexionE, ShoulderRotation, Elbow, ProSupination, Wrist, GripPressure\n",
      "Creating raw.info structure...\n",
      "Reading 0 ... 165887  =      0.000 ...   323.998 secs...\n",
      "Extracting EDF parameters from /Users/navtegh/Downloads/EEG_Dataset/Dataset_EEG/S03_ME/motorexecution_subject3_run3.gdf...\n",
      "GDF file detected\n",
      "Setting channel info structure...\n",
      "Could not determine channel type of the following channels, they will be set as EEG:\n",
      "F3, F1, Fz, F2, F4, FFC5h, FFC3h, FFC1h, FFC2h, FFC4h, FFC6h, FC5, FC3, FC1, FCz, FC2, FC4, FC6, FTT7h, FCC5h, FCC3h, FCC1h, FCC2h, FCC4h, FCC6h, FTT8h, C5, C3, C1, Cz, C2, C4, C6, TTP7h, CCP5h, CCP3h, CCP1h, CCP2h, CCP4h, CCP6h, TTP8h, CP5, CP3, CP1, CPz, CP2, CP4, CP6, CPP5h, CPP3h, CPP1h, CPP2h, CPP4h, CPP6h, P3, P1, Pz, P2, P4, PPO1h, PPO2h, eog-l, eog-m, eog-r, thumb_near, thumb_far, thumb_index, index_near, index_far, index_middle, middle_near, middle_far, middle_ring, ring_near, ring_far, ring_little, litte_near, litte_far, thumb_palm, wrist_bend, roll, pitch, gesture, handPosX, handPosY, handPosZ, elbowPosX, elbowPosY, elbowPosZ, ShoulderAdductio, ShoulderFlexionE, ShoulderRotation, Elbow, ProSupination, Wrist, GripPressure\n",
      "Creating raw.info structure...\n",
      "Reading 0 ... 166911  =      0.000 ...   325.998 secs...\n",
      "Extracting EDF parameters from /Users/navtegh/Downloads/EEG_Dataset/Dataset_EEG/S03_ME/motorexecution_subject3_run4.gdf...\n",
      "GDF file detected\n",
      "Setting channel info structure...\n",
      "Could not determine channel type of the following channels, they will be set as EEG:\n",
      "F3, F1, Fz, F2, F4, FFC5h, FFC3h, FFC1h, FFC2h, FFC4h, FFC6h, FC5, FC3, FC1, FCz, FC2, FC4, FC6, FTT7h, FCC5h, FCC3h, FCC1h, FCC2h, FCC4h, FCC6h, FTT8h, C5, C3, C1, Cz, C2, C4, C6, TTP7h, CCP5h, CCP3h, CCP1h, CCP2h, CCP4h, CCP6h, TTP8h, CP5, CP3, CP1, CPz, CP2, CP4, CP6, CPP5h, CPP3h, CPP1h, CPP2h, CPP4h, CPP6h, P3, P1, Pz, P2, P4, PPO1h, PPO2h, eog-l, eog-m, eog-r, thumb_near, thumb_far, thumb_index, index_near, index_far, index_middle, middle_near, middle_far, middle_ring, ring_near, ring_far, ring_little, litte_near, litte_far, thumb_palm, wrist_bend, roll, pitch, gesture, handPosX, handPosY, handPosZ, elbowPosX, elbowPosY, elbowPosZ, ShoulderAdductio, ShoulderFlexionE, ShoulderRotation, Elbow, ProSupination, Wrist, GripPressure\n",
      "Creating raw.info structure...\n",
      "Reading 0 ... 166911  =      0.000 ...   325.998 secs...\n",
      "Extracting EDF parameters from /Users/navtegh/Downloads/EEG_Dataset/Dataset_EEG/S03_ME/motorexecution_subject3_run5.gdf...\n",
      "GDF file detected\n",
      "Setting channel info structure...\n",
      "Could not determine channel type of the following channels, they will be set as EEG:\n",
      "F3, F1, Fz, F2, F4, FFC5h, FFC3h, FFC1h, FFC2h, FFC4h, FFC6h, FC5, FC3, FC1, FCz, FC2, FC4, FC6, FTT7h, FCC5h, FCC3h, FCC1h, FCC2h, FCC4h, FCC6h, FTT8h, C5, C3, C1, Cz, C2, C4, C6, TTP7h, CCP5h, CCP3h, CCP1h, CCP2h, CCP4h, CCP6h, TTP8h, CP5, CP3, CP1, CPz, CP2, CP4, CP6, CPP5h, CPP3h, CPP1h, CPP2h, CPP4h, CPP6h, P3, P1, Pz, P2, P4, PPO1h, PPO2h, eog-l, eog-m, eog-r, thumb_near, thumb_far, thumb_index, index_near, index_far, index_middle, middle_near, middle_far, middle_ring, ring_near, ring_far, ring_little, litte_near, litte_far, thumb_palm, wrist_bend, roll, pitch, gesture, handPosX, handPosY, handPosZ, elbowPosX, elbowPosY, elbowPosZ, ShoulderAdductio, ShoulderFlexionE, ShoulderRotation, Elbow, ProSupination, Wrist, GripPressure\n",
      "Creating raw.info structure...\n",
      "Reading 0 ... 166911  =      0.000 ...   325.998 secs...\n",
      "Extracting EDF parameters from /Users/navtegh/Downloads/EEG_Dataset/Dataset_EEG/S03_ME/motorexecution_subject3_run6.gdf...\n",
      "GDF file detected\n",
      "Setting channel info structure...\n",
      "Could not determine channel type of the following channels, they will be set as EEG:\n",
      "F3, F1, Fz, F2, F4, FFC5h, FFC3h, FFC1h, FFC2h, FFC4h, FFC6h, FC5, FC3, FC1, FCz, FC2, FC4, FC6, FTT7h, FCC5h, FCC3h, FCC1h, FCC2h, FCC4h, FCC6h, FTT8h, C5, C3, C1, Cz, C2, C4, C6, TTP7h, CCP5h, CCP3h, CCP1h, CCP2h, CCP4h, CCP6h, TTP8h, CP5, CP3, CP1, CPz, CP2, CP4, CP6, CPP5h, CPP3h, CPP1h, CPP2h, CPP4h, CPP6h, P3, P1, Pz, P2, P4, PPO1h, PPO2h, eog-l, eog-m, eog-r, thumb_near, thumb_far, thumb_index, index_near, index_far, index_middle, middle_near, middle_far, middle_ring, ring_near, ring_far, ring_little, litte_near, litte_far, thumb_palm, wrist_bend, roll, pitch, gesture, handPosX, handPosY, handPosZ, elbowPosX, elbowPosY, elbowPosZ, ShoulderAdductio, ShoulderFlexionE, ShoulderRotation, Elbow, ProSupination, Wrist, GripPressure\n",
      "Creating raw.info structure...\n",
      "Reading 0 ... 165375  =      0.000 ...   322.998 secs...\n",
      "Extracting EDF parameters from /Users/navtegh/Downloads/EEG_Dataset/Dataset_EEG/S03_ME/motorexecution_subject3_run7.gdf...\n",
      "GDF file detected\n",
      "Setting channel info structure...\n",
      "Could not determine channel type of the following channels, they will be set as EEG:\n",
      "F3, F1, Fz, F2, F4, FFC5h, FFC3h, FFC1h, FFC2h, FFC4h, FFC6h, FC5, FC3, FC1, FCz, FC2, FC4, FC6, FTT7h, FCC5h, FCC3h, FCC1h, FCC2h, FCC4h, FCC6h, FTT8h, C5, C3, C1, Cz, C2, C4, C6, TTP7h, CCP5h, CCP3h, CCP1h, CCP2h, CCP4h, CCP6h, TTP8h, CP5, CP3, CP1, CPz, CP2, CP4, CP6, CPP5h, CPP3h, CPP1h, CPP2h, CPP4h, CPP6h, P3, P1, Pz, P2, P4, PPO1h, PPO2h, eog-l, eog-m, eog-r, thumb_near, thumb_far, thumb_index, index_near, index_far, index_middle, middle_near, middle_far, middle_ring, ring_near, ring_far, ring_little, litte_near, litte_far, thumb_palm, wrist_bend, roll, pitch, gesture, handPosX, handPosY, handPosZ, elbowPosX, elbowPosY, elbowPosZ, ShoulderAdductio, ShoulderFlexionE, ShoulderRotation, Elbow, ProSupination, Wrist, GripPressure\n"
     ]
    },
    {
     "name": "stdout",
     "output_type": "stream",
     "text": [
      "Creating raw.info structure...\n",
      "Reading 0 ... 166911  =      0.000 ...   325.998 secs...\n",
      "Extracting EDF parameters from /Users/navtegh/Downloads/EEG_Dataset/Dataset_EEG/S03_ME/motorexecution_subject3_run8.gdf...\n",
      "GDF file detected\n",
      "Setting channel info structure...\n",
      "Could not determine channel type of the following channels, they will be set as EEG:\n",
      "F3, F1, Fz, F2, F4, FFC5h, FFC3h, FFC1h, FFC2h, FFC4h, FFC6h, FC5, FC3, FC1, FCz, FC2, FC4, FC6, FTT7h, FCC5h, FCC3h, FCC1h, FCC2h, FCC4h, FCC6h, FTT8h, C5, C3, C1, Cz, C2, C4, C6, TTP7h, CCP5h, CCP3h, CCP1h, CCP2h, CCP4h, CCP6h, TTP8h, CP5, CP3, CP1, CPz, CP2, CP4, CP6, CPP5h, CPP3h, CPP1h, CPP2h, CPP4h, CPP6h, P3, P1, Pz, P2, P4, PPO1h, PPO2h, eog-l, eog-m, eog-r, thumb_near, thumb_far, thumb_index, index_near, index_far, index_middle, middle_near, middle_far, middle_ring, ring_near, ring_far, ring_little, litte_near, litte_far, thumb_palm, wrist_bend, roll, pitch, gesture, handPosX, handPosY, handPosZ, elbowPosX, elbowPosY, elbowPosZ, ShoulderAdductio, ShoulderFlexionE, ShoulderRotation, Elbow, ProSupination, Wrist, GripPressure\n",
      "Creating raw.info structure...\n",
      "Reading 0 ... 166399  =      0.000 ...   324.998 secs...\n",
      "Extracting EDF parameters from /Users/navtegh/Downloads/EEG_Dataset/Dataset_EEG/S03_ME/motorexecution_subject3_run9.gdf...\n",
      "GDF file detected\n",
      "Setting channel info structure...\n",
      "Could not determine channel type of the following channels, they will be set as EEG:\n",
      "F3, F1, Fz, F2, F4, FFC5h, FFC3h, FFC1h, FFC2h, FFC4h, FFC6h, FC5, FC3, FC1, FCz, FC2, FC4, FC6, FTT7h, FCC5h, FCC3h, FCC1h, FCC2h, FCC4h, FCC6h, FTT8h, C5, C3, C1, Cz, C2, C4, C6, TTP7h, CCP5h, CCP3h, CCP1h, CCP2h, CCP4h, CCP6h, TTP8h, CP5, CP3, CP1, CPz, CP2, CP4, CP6, CPP5h, CPP3h, CPP1h, CPP2h, CPP4h, CPP6h, P3, P1, Pz, P2, P4, PPO1h, PPO2h, eog-l, eog-m, eog-r, thumb_near, thumb_far, thumb_index, index_near, index_far, index_middle, middle_near, middle_far, middle_ring, ring_near, ring_far, ring_little, litte_near, litte_far, thumb_palm, wrist_bend, roll, pitch, gesture, handPosX, handPosY, handPosZ, elbowPosX, elbowPosY, elbowPosZ, ShoulderAdductio, ShoulderFlexionE, ShoulderRotation, Elbow, ProSupination, Wrist, GripPressure\n",
      "Creating raw.info structure...\n",
      "Reading 0 ... 167423  =      0.000 ...   326.998 secs...\n",
      "Extracting EDF parameters from /Users/navtegh/Downloads/EEG_Dataset/Dataset_EEG/S04_ME/motorexecution_subject4_run1.gdf...\n",
      "GDF file detected\n",
      "Setting channel info structure...\n",
      "Could not determine channel type of the following channels, they will be set as EEG:\n",
      "F3, F1, Fz, F2, F4, FFC5h, FFC3h, FFC1h, FFC2h, FFC4h, FFC6h, FC5, FC3, FC1, FCz, FC2, FC4, FC6, FTT7h, FCC5h, FCC3h, FCC1h, FCC2h, FCC4h, FCC6h, FTT8h, C5, C3, C1, Cz, C2, C4, C6, TTP7h, CCP5h, CCP3h, CCP1h, CCP2h, CCP4h, CCP6h, TTP8h, CP5, CP3, CP1, CPz, CP2, CP4, CP6, CPP5h, CPP3h, CPP1h, CPP2h, CPP4h, CPP6h, P3, P1, Pz, P2, P4, PPO1h, PPO2h, eog-l, eog-m, eog-r, thumb_near, thumb_far, thumb_index, index_near, index_far, index_middle, middle_near, middle_far, middle_ring, ring_near, ring_far, ring_little, litte_near, litte_far, thumb_palm, wrist_bend, roll, pitch, gesture, handPosX, handPosY, handPosZ, elbowPosX, elbowPosY, elbowPosZ, ShoulderAdductio, ShoulderFlexionE, ShoulderRotation, Elbow, ProSupination, Wrist, GripPressure\n",
      "Creating raw.info structure...\n",
      "Reading 0 ... 165887  =      0.000 ...   323.998 secs...\n",
      "Extracting EDF parameters from /Users/navtegh/Downloads/EEG_Dataset/Dataset_EEG/S04_ME/motorexecution_subject4_run2.gdf...\n",
      "GDF file detected\n",
      "Setting channel info structure...\n",
      "Could not determine channel type of the following channels, they will be set as EEG:\n",
      "F3, F1, Fz, F2, F4, FFC5h, FFC3h, FFC1h, FFC2h, FFC4h, FFC6h, FC5, FC3, FC1, FCz, FC2, FC4, FC6, FTT7h, FCC5h, FCC3h, FCC1h, FCC2h, FCC4h, FCC6h, FTT8h, C5, C3, C1, Cz, C2, C4, C6, TTP7h, CCP5h, CCP3h, CCP1h, CCP2h, CCP4h, CCP6h, TTP8h, CP5, CP3, CP1, CPz, CP2, CP4, CP6, CPP5h, CPP3h, CPP1h, CPP2h, CPP4h, CPP6h, P3, P1, Pz, P2, P4, PPO1h, PPO2h, eog-l, eog-m, eog-r, thumb_near, thumb_far, thumb_index, index_near, index_far, index_middle, middle_near, middle_far, middle_ring, ring_near, ring_far, ring_little, litte_near, litte_far, thumb_palm, wrist_bend, roll, pitch, gesture, handPosX, handPosY, handPosZ, elbowPosX, elbowPosY, elbowPosZ, ShoulderAdductio, ShoulderFlexionE, ShoulderRotation, Elbow, ProSupination, Wrist, GripPressure\n",
      "Creating raw.info structure...\n",
      "Reading 0 ... 165887  =      0.000 ...   323.998 secs...\n",
      "Extracting EDF parameters from /Users/navtegh/Downloads/EEG_Dataset/Dataset_EEG/S04_ME/motorexecution_subject4_run3.gdf...\n",
      "GDF file detected\n",
      "Setting channel info structure...\n",
      "Could not determine channel type of the following channels, they will be set as EEG:\n",
      "F3, F1, Fz, F2, F4, FFC5h, FFC3h, FFC1h, FFC2h, FFC4h, FFC6h, FC5, FC3, FC1, FCz, FC2, FC4, FC6, FTT7h, FCC5h, FCC3h, FCC1h, FCC2h, FCC4h, FCC6h, FTT8h, C5, C3, C1, Cz, C2, C4, C6, TTP7h, CCP5h, CCP3h, CCP1h, CCP2h, CCP4h, CCP6h, TTP8h, CP5, CP3, CP1, CPz, CP2, CP4, CP6, CPP5h, CPP3h, CPP1h, CPP2h, CPP4h, CPP6h, P3, P1, Pz, P2, P4, PPO1h, PPO2h, eog-l, eog-m, eog-r, thumb_near, thumb_far, thumb_index, index_near, index_far, index_middle, middle_near, middle_far, middle_ring, ring_near, ring_far, ring_little, litte_near, litte_far, thumb_palm, wrist_bend, roll, pitch, gesture, handPosX, handPosY, handPosZ, elbowPosX, elbowPosY, elbowPosZ, ShoulderAdductio, ShoulderFlexionE, ShoulderRotation, Elbow, ProSupination, Wrist, GripPressure\n",
      "Creating raw.info structure...\n",
      "Reading 0 ... 165375  =      0.000 ...   322.998 secs...\n",
      "Extracting EDF parameters from /Users/navtegh/Downloads/EEG_Dataset/Dataset_EEG/S04_ME/motorexecution_subject4_run4.gdf...\n",
      "GDF file detected\n",
      "Setting channel info structure...\n",
      "Could not determine channel type of the following channels, they will be set as EEG:\n",
      "F3, F1, Fz, F2, F4, FFC5h, FFC3h, FFC1h, FFC2h, FFC4h, FFC6h, FC5, FC3, FC1, FCz, FC2, FC4, FC6, FTT7h, FCC5h, FCC3h, FCC1h, FCC2h, FCC4h, FCC6h, FTT8h, C5, C3, C1, Cz, C2, C4, C6, TTP7h, CCP5h, CCP3h, CCP1h, CCP2h, CCP4h, CCP6h, TTP8h, CP5, CP3, CP1, CPz, CP2, CP4, CP6, CPP5h, CPP3h, CPP1h, CPP2h, CPP4h, CPP6h, P3, P1, Pz, P2, P4, PPO1h, PPO2h, eog-l, eog-m, eog-r, thumb_near, thumb_far, thumb_index, index_near, index_far, index_middle, middle_near, middle_far, middle_ring, ring_near, ring_far, ring_little, litte_near, litte_far, thumb_palm, wrist_bend, roll, pitch, gesture, handPosX, handPosY, handPosZ, elbowPosX, elbowPosY, elbowPosZ, ShoulderAdductio, ShoulderFlexionE, ShoulderRotation, Elbow, ProSupination, Wrist, GripPressure\n",
      "Creating raw.info structure...\n",
      "Reading 0 ... 165887  =      0.000 ...   323.998 secs...\n",
      "Extracting EDF parameters from /Users/navtegh/Downloads/EEG_Dataset/Dataset_EEG/S04_ME/motorexecution_subject4_run5.gdf...\n",
      "GDF file detected\n",
      "Setting channel info structure...\n",
      "Could not determine channel type of the following channels, they will be set as EEG:\n",
      "F3, F1, Fz, F2, F4, FFC5h, FFC3h, FFC1h, FFC2h, FFC4h, FFC6h, FC5, FC3, FC1, FCz, FC2, FC4, FC6, FTT7h, FCC5h, FCC3h, FCC1h, FCC2h, FCC4h, FCC6h, FTT8h, C5, C3, C1, Cz, C2, C4, C6, TTP7h, CCP5h, CCP3h, CCP1h, CCP2h, CCP4h, CCP6h, TTP8h, CP5, CP3, CP1, CPz, CP2, CP4, CP6, CPP5h, CPP3h, CPP1h, CPP2h, CPP4h, CPP6h, P3, P1, Pz, P2, P4, PPO1h, PPO2h, eog-l, eog-m, eog-r, thumb_near, thumb_far, thumb_index, index_near, index_far, index_middle, middle_near, middle_far, middle_ring, ring_near, ring_far, ring_little, litte_near, litte_far, thumb_palm, wrist_bend, roll, pitch, gesture, handPosX, handPosY, handPosZ, elbowPosX, elbowPosY, elbowPosZ, ShoulderAdductio, ShoulderFlexionE, ShoulderRotation, Elbow, ProSupination, Wrist, GripPressure\n",
      "Creating raw.info structure...\n",
      "Reading 0 ... 167423  =      0.000 ...   326.998 secs...\n",
      "Extracting EDF parameters from /Users/navtegh/Downloads/EEG_Dataset/Dataset_EEG/S04_ME/motorexecution_subject4_run6.gdf...\n",
      "GDF file detected\n",
      "Setting channel info structure...\n",
      "Could not determine channel type of the following channels, they will be set as EEG:\n",
      "F3, F1, Fz, F2, F4, FFC5h, FFC3h, FFC1h, FFC2h, FFC4h, FFC6h, FC5, FC3, FC1, FCz, FC2, FC4, FC6, FTT7h, FCC5h, FCC3h, FCC1h, FCC2h, FCC4h, FCC6h, FTT8h, C5, C3, C1, Cz, C2, C4, C6, TTP7h, CCP5h, CCP3h, CCP1h, CCP2h, CCP4h, CCP6h, TTP8h, CP5, CP3, CP1, CPz, CP2, CP4, CP6, CPP5h, CPP3h, CPP1h, CPP2h, CPP4h, CPP6h, P3, P1, Pz, P2, P4, PPO1h, PPO2h, eog-l, eog-m, eog-r, thumb_near, thumb_far, thumb_index, index_near, index_far, index_middle, middle_near, middle_far, middle_ring, ring_near, ring_far, ring_little, litte_near, litte_far, thumb_palm, wrist_bend, roll, pitch, gesture, handPosX, handPosY, handPosZ, elbowPosX, elbowPosY, elbowPosZ, ShoulderAdductio, ShoulderFlexionE, ShoulderRotation, Elbow, ProSupination, Wrist, GripPressure\n"
     ]
    },
    {
     "name": "stdout",
     "output_type": "stream",
     "text": [
      "Creating raw.info structure...\n",
      "Reading 0 ... 167935  =      0.000 ...   327.998 secs...\n",
      "Extracting EDF parameters from /Users/navtegh/Downloads/EEG_Dataset/Dataset_EEG/S04_ME/motorexecution_subject4_run7.gdf...\n",
      "GDF file detected\n",
      "Setting channel info structure...\n",
      "Could not determine channel type of the following channels, they will be set as EEG:\n",
      "F3, F1, Fz, F2, F4, FFC5h, FFC3h, FFC1h, FFC2h, FFC4h, FFC6h, FC5, FC3, FC1, FCz, FC2, FC4, FC6, FTT7h, FCC5h, FCC3h, FCC1h, FCC2h, FCC4h, FCC6h, FTT8h, C5, C3, C1, Cz, C2, C4, C6, TTP7h, CCP5h, CCP3h, CCP1h, CCP2h, CCP4h, CCP6h, TTP8h, CP5, CP3, CP1, CPz, CP2, CP4, CP6, CPP5h, CPP3h, CPP1h, CPP2h, CPP4h, CPP6h, P3, P1, Pz, P2, P4, PPO1h, PPO2h, eog-l, eog-m, eog-r, thumb_near, thumb_far, thumb_index, index_near, index_far, index_middle, middle_near, middle_far, middle_ring, ring_near, ring_far, ring_little, litte_near, litte_far, thumb_palm, wrist_bend, roll, pitch, gesture, handPosX, handPosY, handPosZ, elbowPosX, elbowPosY, elbowPosZ, ShoulderAdductio, ShoulderFlexionE, ShoulderRotation, Elbow, ProSupination, Wrist, GripPressure\n",
      "Creating raw.info structure...\n",
      "Reading 0 ... 168447  =      0.000 ...   328.998 secs...\n",
      "Extracting EDF parameters from /Users/navtegh/Downloads/EEG_Dataset/Dataset_EEG/S04_ME/motorexecution_subject4_run8.gdf...\n",
      "GDF file detected\n",
      "Setting channel info structure...\n",
      "Could not determine channel type of the following channels, they will be set as EEG:\n",
      "F3, F1, Fz, F2, F4, FFC5h, FFC3h, FFC1h, FFC2h, FFC4h, FFC6h, FC5, FC3, FC1, FCz, FC2, FC4, FC6, FTT7h, FCC5h, FCC3h, FCC1h, FCC2h, FCC4h, FCC6h, FTT8h, C5, C3, C1, Cz, C2, C4, C6, TTP7h, CCP5h, CCP3h, CCP1h, CCP2h, CCP4h, CCP6h, TTP8h, CP5, CP3, CP1, CPz, CP2, CP4, CP6, CPP5h, CPP3h, CPP1h, CPP2h, CPP4h, CPP6h, P3, P1, Pz, P2, P4, PPO1h, PPO2h, eog-l, eog-m, eog-r, thumb_near, thumb_far, thumb_index, index_near, index_far, index_middle, middle_near, middle_far, middle_ring, ring_near, ring_far, ring_little, litte_near, litte_far, thumb_palm, wrist_bend, roll, pitch, gesture, handPosX, handPosY, handPosZ, elbowPosX, elbowPosY, elbowPosZ, ShoulderAdductio, ShoulderFlexionE, ShoulderRotation, Elbow, ProSupination, Wrist, GripPressure\n",
      "Creating raw.info structure...\n",
      "Reading 0 ... 165375  =      0.000 ...   322.998 secs...\n",
      "Extracting EDF parameters from /Users/navtegh/Downloads/EEG_Dataset/Dataset_EEG/S04_ME/motorexecution_subject4_run9.gdf...\n",
      "GDF file detected\n",
      "Setting channel info structure...\n",
      "Could not determine channel type of the following channels, they will be set as EEG:\n",
      "F3, F1, Fz, F2, F4, FFC5h, FFC3h, FFC1h, FFC2h, FFC4h, FFC6h, FC5, FC3, FC1, FCz, FC2, FC4, FC6, FTT7h, FCC5h, FCC3h, FCC1h, FCC2h, FCC4h, FCC6h, FTT8h, C5, C3, C1, Cz, C2, C4, C6, TTP7h, CCP5h, CCP3h, CCP1h, CCP2h, CCP4h, CCP6h, TTP8h, CP5, CP3, CP1, CPz, CP2, CP4, CP6, CPP5h, CPP3h, CPP1h, CPP2h, CPP4h, CPP6h, P3, P1, Pz, P2, P4, PPO1h, PPO2h, eog-l, eog-m, eog-r, thumb_near, thumb_far, thumb_index, index_near, index_far, index_middle, middle_near, middle_far, middle_ring, ring_near, ring_far, ring_little, litte_near, litte_far, thumb_palm, wrist_bend, roll, pitch, gesture, handPosX, handPosY, handPosZ, elbowPosX, elbowPosY, elbowPosZ, ShoulderAdductio, ShoulderFlexionE, ShoulderRotation, Elbow, ProSupination, Wrist, GripPressure\n",
      "Creating raw.info structure...\n",
      "Reading 0 ... 165887  =      0.000 ...   323.998 secs...\n",
      "Extracting EDF parameters from /Users/navtegh/Downloads/EEG_Dataset/Dataset_EEG/S05_ME/motorexecution_subject5_run1.gdf...\n",
      "GDF file detected\n",
      "Setting channel info structure...\n",
      "Could not determine channel type of the following channels, they will be set as EEG:\n",
      "F3, F1, Fz, F2, F4, FFC5h, FFC3h, FFC1h, FFC2h, FFC4h, FFC6h, FC5, FC3, FC1, FCz, FC2, FC4, FC6, FTT7h, FCC5h, FCC3h, FCC1h, FCC2h, FCC4h, FCC6h, FTT8h, C5, C3, C1, Cz, C2, C4, C6, TTP7h, CCP5h, CCP3h, CCP1h, CCP2h, CCP4h, CCP6h, TTP8h, CP5, CP3, CP1, CPz, CP2, CP4, CP6, CPP5h, CPP3h, CPP1h, CPP2h, CPP4h, CPP6h, P3, P1, Pz, P2, P4, PPO1h, PPO2h, eog-l, eog-m, eog-r, thumb_near, thumb_far, thumb_index, index_near, index_far, index_middle, middle_near, middle_far, middle_ring, ring_near, ring_far, ring_little, litte_near, litte_far, thumb_palm, wrist_bend, roll, pitch, gesture, handPosX, handPosY, handPosZ, elbowPosX, elbowPosY, elbowPosZ, ShoulderAdductio, ShoulderFlexionE, ShoulderRotation, Elbow, ProSupination, Wrist, GripPressure\n",
      "Creating raw.info structure...\n",
      "Reading 0 ... 165887  =      0.000 ...   323.998 secs...\n",
      "Extracting EDF parameters from /Users/navtegh/Downloads/EEG_Dataset/Dataset_EEG/S05_ME/motorexecution_subject5_run2.gdf...\n",
      "GDF file detected\n",
      "Setting channel info structure...\n",
      "Could not determine channel type of the following channels, they will be set as EEG:\n",
      "F3, F1, Fz, F2, F4, FFC5h, FFC3h, FFC1h, FFC2h, FFC4h, FFC6h, FC5, FC3, FC1, FCz, FC2, FC4, FC6, FTT7h, FCC5h, FCC3h, FCC1h, FCC2h, FCC4h, FCC6h, FTT8h, C5, C3, C1, Cz, C2, C4, C6, TTP7h, CCP5h, CCP3h, CCP1h, CCP2h, CCP4h, CCP6h, TTP8h, CP5, CP3, CP1, CPz, CP2, CP4, CP6, CPP5h, CPP3h, CPP1h, CPP2h, CPP4h, CPP6h, P3, P1, Pz, P2, P4, PPO1h, PPO2h, eog-l, eog-m, eog-r, thumb_near, thumb_far, thumb_index, index_near, index_far, index_middle, middle_near, middle_far, middle_ring, ring_near, ring_far, ring_little, litte_near, litte_far, thumb_palm, wrist_bend, roll, pitch, gesture, handPosX, handPosY, handPosZ, elbowPosX, elbowPosY, elbowPosZ, ShoulderAdductio, ShoulderFlexionE, ShoulderRotation, Elbow, ProSupination, Wrist, GripPressure\n",
      "Creating raw.info structure...\n",
      "Reading 0 ... 165887  =      0.000 ...   323.998 secs...\n",
      "Extracting EDF parameters from /Users/navtegh/Downloads/EEG_Dataset/Dataset_EEG/S05_ME/motorexecution_subject5_run3.gdf...\n",
      "GDF file detected\n",
      "Setting channel info structure...\n",
      "Could not determine channel type of the following channels, they will be set as EEG:\n",
      "F3, F1, Fz, F2, F4, FFC5h, FFC3h, FFC1h, FFC2h, FFC4h, FFC6h, FC5, FC3, FC1, FCz, FC2, FC4, FC6, FTT7h, FCC5h, FCC3h, FCC1h, FCC2h, FCC4h, FCC6h, FTT8h, C5, C3, C1, Cz, C2, C4, C6, TTP7h, CCP5h, CCP3h, CCP1h, CCP2h, CCP4h, CCP6h, TTP8h, CP5, CP3, CP1, CPz, CP2, CP4, CP6, CPP5h, CPP3h, CPP1h, CPP2h, CPP4h, CPP6h, P3, P1, Pz, P2, P4, PPO1h, PPO2h, eog-l, eog-m, eog-r, thumb_near, thumb_far, thumb_index, index_near, index_far, index_middle, middle_near, middle_far, middle_ring, ring_near, ring_far, ring_little, litte_near, litte_far, thumb_palm, wrist_bend, roll, pitch, gesture, handPosX, handPosY, handPosZ, elbowPosX, elbowPosY, elbowPosZ, ShoulderAdductio, ShoulderFlexionE, ShoulderRotation, Elbow, ProSupination, Wrist, GripPressure\n",
      "Creating raw.info structure...\n",
      "Reading 0 ... 165375  =      0.000 ...   322.998 secs...\n",
      "Extracting EDF parameters from /Users/navtegh/Downloads/EEG_Dataset/Dataset_EEG/S05_ME/motorexecution_subject5_run4.gdf...\n",
      "GDF file detected\n",
      "Setting channel info structure...\n",
      "Could not determine channel type of the following channels, they will be set as EEG:\n",
      "F3, F1, Fz, F2, F4, FFC5h, FFC3h, FFC1h, FFC2h, FFC4h, FFC6h, FC5, FC3, FC1, FCz, FC2, FC4, FC6, FTT7h, FCC5h, FCC3h, FCC1h, FCC2h, FCC4h, FCC6h, FTT8h, C5, C3, C1, Cz, C2, C4, C6, TTP7h, CCP5h, CCP3h, CCP1h, CCP2h, CCP4h, CCP6h, TTP8h, CP5, CP3, CP1, CPz, CP2, CP4, CP6, CPP5h, CPP3h, CPP1h, CPP2h, CPP4h, CPP6h, P3, P1, Pz, P2, P4, PPO1h, PPO2h, eog-l, eog-m, eog-r, thumb_near, thumb_far, thumb_index, index_near, index_far, index_middle, middle_near, middle_far, middle_ring, ring_near, ring_far, ring_little, litte_near, litte_far, thumb_palm, wrist_bend, roll, pitch, gesture, handPosX, handPosY, handPosZ, elbowPosX, elbowPosY, elbowPosZ, ShoulderAdductio, ShoulderFlexionE, ShoulderRotation, Elbow, ProSupination, Wrist, GripPressure\n",
      "Creating raw.info structure...\n",
      "Reading 0 ... 165887  =      0.000 ...   323.998 secs...\n",
      "Extracting EDF parameters from /Users/navtegh/Downloads/EEG_Dataset/Dataset_EEG/S05_ME/motorexecution_subject5_run5.gdf...\n",
      "GDF file detected\n",
      "Setting channel info structure...\n",
      "Could not determine channel type of the following channels, they will be set as EEG:\n",
      "F3, F1, Fz, F2, F4, FFC5h, FFC3h, FFC1h, FFC2h, FFC4h, FFC6h, FC5, FC3, FC1, FCz, FC2, FC4, FC6, FTT7h, FCC5h, FCC3h, FCC1h, FCC2h, FCC4h, FCC6h, FTT8h, C5, C3, C1, Cz, C2, C4, C6, TTP7h, CCP5h, CCP3h, CCP1h, CCP2h, CCP4h, CCP6h, TTP8h, CP5, CP3, CP1, CPz, CP2, CP4, CP6, CPP5h, CPP3h, CPP1h, CPP2h, CPP4h, CPP6h, P3, P1, Pz, P2, P4, PPO1h, PPO2h, eog-l, eog-m, eog-r, thumb_near, thumb_far, thumb_index, index_near, index_far, index_middle, middle_near, middle_far, middle_ring, ring_near, ring_far, ring_little, litte_near, litte_far, thumb_palm, wrist_bend, roll, pitch, gesture, handPosX, handPosY, handPosZ, elbowPosX, elbowPosY, elbowPosZ, ShoulderAdductio, ShoulderFlexionE, ShoulderRotation, Elbow, ProSupination, Wrist, GripPressure\n"
     ]
    },
    {
     "name": "stdout",
     "output_type": "stream",
     "text": [
      "Creating raw.info structure...\n",
      "Reading 0 ... 167423  =      0.000 ...   326.998 secs...\n",
      "Extracting EDF parameters from /Users/navtegh/Downloads/EEG_Dataset/Dataset_EEG/S05_ME/motorexecution_subject5_run6.gdf...\n",
      "GDF file detected\n",
      "Setting channel info structure...\n",
      "Could not determine channel type of the following channels, they will be set as EEG:\n",
      "F3, F1, Fz, F2, F4, FFC5h, FFC3h, FFC1h, FFC2h, FFC4h, FFC6h, FC5, FC3, FC1, FCz, FC2, FC4, FC6, FTT7h, FCC5h, FCC3h, FCC1h, FCC2h, FCC4h, FCC6h, FTT8h, C5, C3, C1, Cz, C2, C4, C6, TTP7h, CCP5h, CCP3h, CCP1h, CCP2h, CCP4h, CCP6h, TTP8h, CP5, CP3, CP1, CPz, CP2, CP4, CP6, CPP5h, CPP3h, CPP1h, CPP2h, CPP4h, CPP6h, P3, P1, Pz, P2, P4, PPO1h, PPO2h, eog-l, eog-m, eog-r, thumb_near, thumb_far, thumb_index, index_near, index_far, index_middle, middle_near, middle_far, middle_ring, ring_near, ring_far, ring_little, litte_near, litte_far, thumb_palm, wrist_bend, roll, pitch, gesture, handPosX, handPosY, handPosZ, elbowPosX, elbowPosY, elbowPosZ, ShoulderAdductio, ShoulderFlexionE, ShoulderRotation, Elbow, ProSupination, Wrist, GripPressure\n",
      "Creating raw.info structure...\n",
      "Reading 0 ... 167935  =      0.000 ...   327.998 secs...\n",
      "Extracting EDF parameters from /Users/navtegh/Downloads/EEG_Dataset/Dataset_EEG/S05_ME/motorexecution_subject5_run7.gdf...\n",
      "GDF file detected\n",
      "Setting channel info structure...\n",
      "Could not determine channel type of the following channels, they will be set as EEG:\n",
      "F3, F1, Fz, F2, F4, FFC5h, FFC3h, FFC1h, FFC2h, FFC4h, FFC6h, FC5, FC3, FC1, FCz, FC2, FC4, FC6, FTT7h, FCC5h, FCC3h, FCC1h, FCC2h, FCC4h, FCC6h, FTT8h, C5, C3, C1, Cz, C2, C4, C6, TTP7h, CCP5h, CCP3h, CCP1h, CCP2h, CCP4h, CCP6h, TTP8h, CP5, CP3, CP1, CPz, CP2, CP4, CP6, CPP5h, CPP3h, CPP1h, CPP2h, CPP4h, CPP6h, P3, P1, Pz, P2, P4, PPO1h, PPO2h, eog-l, eog-m, eog-r, thumb_near, thumb_far, thumb_index, index_near, index_far, index_middle, middle_near, middle_far, middle_ring, ring_near, ring_far, ring_little, litte_near, litte_far, thumb_palm, wrist_bend, roll, pitch, gesture, handPosX, handPosY, handPosZ, elbowPosX, elbowPosY, elbowPosZ, ShoulderAdductio, ShoulderFlexionE, ShoulderRotation, Elbow, ProSupination, Wrist, GripPressure\n",
      "Creating raw.info structure...\n",
      "Reading 0 ... 168447  =      0.000 ...   328.998 secs...\n",
      "Extracting EDF parameters from /Users/navtegh/Downloads/EEG_Dataset/Dataset_EEG/S05_ME/motorexecution_subject5_run8.gdf...\n",
      "GDF file detected\n",
      "Setting channel info structure...\n",
      "Could not determine channel type of the following channels, they will be set as EEG:\n",
      "F3, F1, Fz, F2, F4, FFC5h, FFC3h, FFC1h, FFC2h, FFC4h, FFC6h, FC5, FC3, FC1, FCz, FC2, FC4, FC6, FTT7h, FCC5h, FCC3h, FCC1h, FCC2h, FCC4h, FCC6h, FTT8h, C5, C3, C1, Cz, C2, C4, C6, TTP7h, CCP5h, CCP3h, CCP1h, CCP2h, CCP4h, CCP6h, TTP8h, CP5, CP3, CP1, CPz, CP2, CP4, CP6, CPP5h, CPP3h, CPP1h, CPP2h, CPP4h, CPP6h, P3, P1, Pz, P2, P4, PPO1h, PPO2h, eog-l, eog-m, eog-r, thumb_near, thumb_far, thumb_index, index_near, index_far, index_middle, middle_near, middle_far, middle_ring, ring_near, ring_far, ring_little, litte_near, litte_far, thumb_palm, wrist_bend, roll, pitch, gesture, handPosX, handPosY, handPosZ, elbowPosX, elbowPosY, elbowPosZ, ShoulderAdductio, ShoulderFlexionE, ShoulderRotation, Elbow, ProSupination, Wrist, GripPressure\n",
      "Creating raw.info structure...\n",
      "Reading 0 ... 165375  =      0.000 ...   322.998 secs...\n",
      "Extracting EDF parameters from /Users/navtegh/Downloads/EEG_Dataset/Dataset_EEG/S05_ME/motorexecution_subject5_run9.gdf...\n",
      "GDF file detected\n",
      "Setting channel info structure...\n",
      "Could not determine channel type of the following channels, they will be set as EEG:\n",
      "F3, F1, Fz, F2, F4, FFC5h, FFC3h, FFC1h, FFC2h, FFC4h, FFC6h, FC5, FC3, FC1, FCz, FC2, FC4, FC6, FTT7h, FCC5h, FCC3h, FCC1h, FCC2h, FCC4h, FCC6h, FTT8h, C5, C3, C1, Cz, C2, C4, C6, TTP7h, CCP5h, CCP3h, CCP1h, CCP2h, CCP4h, CCP6h, TTP8h, CP5, CP3, CP1, CPz, CP2, CP4, CP6, CPP5h, CPP3h, CPP1h, CPP2h, CPP4h, CPP6h, P3, P1, Pz, P2, P4, PPO1h, PPO2h, eog-l, eog-m, eog-r, thumb_near, thumb_far, thumb_index, index_near, index_far, index_middle, middle_near, middle_far, middle_ring, ring_near, ring_far, ring_little, litte_near, litte_far, thumb_palm, wrist_bend, roll, pitch, gesture, handPosX, handPosY, handPosZ, elbowPosX, elbowPosY, elbowPosZ, ShoulderAdductio, ShoulderFlexionE, ShoulderRotation, Elbow, ProSupination, Wrist, GripPressure\n",
      "Creating raw.info structure...\n",
      "Reading 0 ... 165887  =      0.000 ...   323.998 secs...\n"
     ]
    }
   ],
   "source": [
    "# load dataset\n",
    "raws = [mne.io.read_raw_gdf('/Users/navtegh/Downloads/EEG_Dataset/Dataset_EEG/S0'+str(j)+'_ME/motorexecution_subject'+str(j)+'_run'+str(i)+'.gdf', preload=True)for j in range(2,6) for i in range(1,10)]\n",
    "# raws = [mne.io.read_raw_gdf('/Users/navtegh/Downloads/EEG_Dataset/Dataset_EEG/S06_ME/motorexecution_subject6_run'+str(i)+'.gdf', preload=True) for i in range(1,11)]\n",
    "# raws = [mne.io.read_raw_gdf('/Users/navtegh/Downloads/EEG_Dataset/Dataset_EEG/S01_ME/motorexecution_subject1_run'+str(i)+'.gdf', preload=True)for i in range(1,11)]\n",
    "#Combine all loaded runs\n",
    "# raw = [mne.io.read_raw_gdf('/Users/navtegh/Downloads/EEG_Dataset/Dataset_EEG/S0'+str(j)+'_ME/motorexecution_subject'+str(j)+'_run10.gdf', preload=True)for j in range(2,9)]\n",
    "raw_data = mne.concatenate_raws(raws)\n",
    "#raw_data=mne.io.read_raw_gdf('/Users/navtegh/Downloads/EEG_Dataset/Dataset_EEG/S02_ME/motorexecution_subject2_run4.gdf', preload=True)\n",
    "#raw_data=mne.io.read_raw_gdf('/Users/navtegh/Downloads/BCICIV_2a_gdf/A03E.gdf', preload=True)"
   ]
  },
  {
   "cell_type": "code",
   "execution_count": null,
   "id": "e5f8a3e4",
   "metadata": {},
   "outputs": [],
   "source": [
    "print('Channel names:', raw_data.info['ch_names'])"
   ]
  },
  {
   "cell_type": "code",
   "execution_count": null,
   "id": "87ce859f",
   "metadata": {},
   "outputs": [],
   "source": [
    "#np.isfinite(raw_data.get_data()).all()"
   ]
  },
  {
   "cell_type": "code",
   "execution_count": null,
   "id": "9f74cebf",
   "metadata": {},
   "outputs": [],
   "source": [
    "# np.count_nonzero(np.isnan(raw_data.get_data()))"
   ]
  },
  {
   "cell_type": "code",
   "execution_count": null,
   "id": "b3d78798",
   "metadata": {},
   "outputs": [],
   "source": [
    "# drop the eog channels we do not use\n",
    "#raw_data.drop_channels(['eog-r', 'eog-m', 'eog-l', 'thumb_near', 'thumb_far', 'thumb_index', 'index_near', 'index_far', 'index_middle', 'middle_near', 'middle_far', 'middle_ring', 'ring_near', 'ring_far', 'ring_little', 'litte_near', 'litte_far', 'thumb_palm', 'wrist_bend', 'roll', 'pitch', 'gesture', 'handPosX', 'handPosY', 'handPosZ', 'elbowPosX', 'elbowPosY', 'elbowPosZ', 'ShoulderAdductio', 'ShoulderFlexionE', 'ShoulderRotation', 'Elbow', 'ProSupination', 'Wrist', 'GripPressure'])\n",
    "# raw_data = raw_data.copy().resample(sfreq=100)"
   ]
  },
  {
   "cell_type": "code",
   "execution_count": null,
   "id": "283b58e2",
   "metadata": {},
   "outputs": [],
   "source": [
    "#np.count_nonzero(np.isnan(raw_data.get_data()))"
   ]
  },
  {
   "cell_type": "code",
   "execution_count": null,
   "id": "c2264578",
   "metadata": {},
   "outputs": [],
   "source": [
    "#raw_data.filter(7, 35,l_trans_bandwidth=1, h_trans_bandwidth=1, fir_design='firwin')"
   ]
  },
  {
   "cell_type": "code",
   "execution_count": null,
   "id": "322f09fc",
   "metadata": {},
   "outputs": [],
   "source": [
    "# np.count_nonzero(np.isnan(raw_data.get_data()))"
   ]
  },
  {
   "cell_type": "code",
   "execution_count": null,
   "id": "54fe5988",
   "metadata": {},
   "outputs": [],
   "source": [
    "print('Channel names:', raw_data.info['ch_names'])"
   ]
  },
  {
   "cell_type": "code",
   "execution_count": null,
   "id": "2b966f8b",
   "metadata": {},
   "outputs": [],
   "source": [
    "# set montage of the channels\n",
    "# raw_data.set_montage(mne.channels.make_standard_montage('standard_1020'))\n",
    "\n",
    "print(\"raw data information\", raw_data.info)\n",
    "# raw_data.plot()"
   ]
  },
  {
   "cell_type": "code",
   "execution_count": null,
   "id": "2b7bc5ae",
   "metadata": {},
   "outputs": [],
   "source": [
    "#filtering data ask sir?\n",
    "#raw_data = raw_data.copy().filter(l_freq=255.9, h_freq=0.1)"
   ]
  },
  {
   "cell_type": "code",
   "execution_count": null,
   "id": "dea5dacb",
   "metadata": {},
   "outputs": [],
   "source": [
    "#sf=512\n",
    "#data_broad = mne.filter.filter_data(raw_data, sf, 7, 35, n_jobs=3, fir_design='firwin', verbose=0)"
   ]
  },
  {
   "cell_type": "code",
   "execution_count": null,
   "id": "323b541e",
   "metadata": {
    "scrolled": true
   },
   "outputs": [],
   "source": [
    "#raw_data.filter(7, 35,l_trans_bandwidth=1, h_trans_bandwidth=1, fir_design='firwin')"
   ]
  },
  {
   "cell_type": "code",
   "execution_count": null,
   "id": "03f59155",
   "metadata": {},
   "outputs": [],
   "source": [
    "# raw_data.plot()"
   ]
  },
  {
   "cell_type": "code",
   "execution_count": null,
   "id": "1601a032",
   "metadata": {},
   "outputs": [],
   "source": []
  },
  {
   "cell_type": "code",
   "execution_count": null,
   "id": "9da46ca6",
   "metadata": {},
   "outputs": [],
   "source": []
  },
  {
   "cell_type": "code",
   "execution_count": null,
   "id": "7fc4b074",
   "metadata": {},
   "outputs": [],
   "source": [
    "events_A, event_id_A = mne.events_from_annotations(raw_data)\n",
    "print(events_A)\n",
    "print(event_id_A)"
   ]
  },
  {
   "cell_type": "code",
   "execution_count": null,
   "id": "d01d5ff7",
   "metadata": {},
   "outputs": [],
   "source": [
    "mne.viz.plot_events(events_A)\n"
   ]
  },
  {
   "cell_type": "code",
   "execution_count": null,
   "id": "f01925d4",
   "metadata": {},
   "outputs": [],
   "source": [
    "# np.isfinite(raw_data.get_data()).all()"
   ]
  },
  {
   "cell_type": "code",
   "execution_count": null,
   "id": "a5c6aebe",
   "metadata": {},
   "outputs": [],
   "source": [
    "# np.count_nonzero(np.isnan(raw_data.get_data()))"
   ]
  },
  {
   "cell_type": "code",
   "execution_count": null,
   "id": "a7d09d0e",
   "metadata": {},
   "outputs": [],
   "source": [
    "# raw_data.filter(7, 35, fir_design='firwin')"
   ]
  },
  {
   "cell_type": "code",
   "execution_count": null,
   "id": "e2744083",
   "metadata": {},
   "outputs": [],
   "source": []
  },
  {
   "cell_type": "code",
   "execution_count": null,
   "id": "a61929cf",
   "metadata": {},
   "outputs": [],
   "source": [
    "events_A, event_id_A = mne.events_from_annotations(raw_data)\n",
    "print(events_A)\n",
    "print(event_id_A)"
   ]
  },
  {
   "cell_type": "code",
   "execution_count": null,
   "id": "84b575a9",
   "metadata": {},
   "outputs": [],
   "source": [
    "# print(len(raw_data))"
   ]
  },
  {
   "cell_type": "code",
   "execution_count": null,
   "id": "7afc2d55",
   "metadata": {},
   "outputs": [],
   "source": [
    "#epochs = mne.Epochs(raw_data, events_A, tmin=-0.2, tmax=0.8, event_repeated='merge',preload=True, event_id={'elbow_flexion':1536, 'elbow_extension': 1537, 'supination': 1538, 'pronation':1539,'hand_close':1540,'hand_open':1541,'rest':1542 })\n",
    "#epochs = mne.Epochs(raw_data, events_A, tmin=-0.1, tmax=3.0, event_repeated='merge',preload=True, event_id={'elbow_flexion':1, 'elbow_extension': 2, 'supination': 3, 'pronation':4,'hand_close':5,'hand_open':6,'rest':7 })\n",
    "\n",
    "\n",
    "raw_data.info['bads'] += ['eog-r', 'eog-m', 'eog-l', 'thumb_near', 'thumb_far', 'thumb_index', 'index_near', 'index_far', 'index_middle', 'middle_near', 'middle_far', 'middle_ring', 'ring_near', 'ring_far', 'ring_little', 'litte_near', 'litte_far', 'thumb_palm', 'wrist_bend', 'roll', 'pitch', 'gesture', 'handPosX', 'handPosY', 'handPosZ', 'elbowPosX', 'elbowPosY', 'elbowPosZ', 'ShoulderAdductio', 'ShoulderFlexionE', 'ShoulderRotation', 'Elbow', 'ProSupination', 'Wrist', 'GripPressure']\n",
    "\n",
    "picks = mne.pick_types(raw_data.info, meg=False, eeg=True, eog=False, stim=False,\n",
    "                       exclude='bads')\n",
    "\n",
    "# event_id={'1':1, '2': 2, '3': 3, '4':4,'5':5,'6':6 }\n",
    "event_id={'1':1, '2': 2, '3': 3, '4':4,'5':5,'6':6,'7':7 }\n",
    "#event_id={'6':6,'7':7 }\n",
    "\n",
    "\n",
    "# epochs = mne.Epochs(raw_data, events_A, event_id, tmin=1., tmax=2. ,proj=True, baseline=None,picks=picks,preload=True)\n",
    "epochs = mne.Epochs(raw_data, events_A, event_id, tmin=-0.01, tmax=3.0, proj=True, picks=picks, preload=True)\n",
    "print(\"epochs information: \", epochs)\n",
    "print(\"epochs dropped for: \", set(epochs.drop_log))\n",
    "\n"
   ]
  },
  {
   "cell_type": "code",
   "execution_count": null,
   "id": "9da3b9ba",
   "metadata": {},
   "outputs": [],
   "source": [
    "labels = epochs.events[:,-1]"
   ]
  },
  {
   "cell_type": "code",
   "execution_count": null,
   "id": "65b20309",
   "metadata": {},
   "outputs": [],
   "source": [
    "labels"
   ]
  },
  {
   "cell_type": "code",
   "execution_count": null,
   "id": "7792a908",
   "metadata": {},
   "outputs": [],
   "source": [
    "# epochs.filter(2, None, method='iir')"
   ]
  },
  {
   "cell_type": "code",
   "execution_count": null,
   "id": "ccf102d9",
   "metadata": {},
   "outputs": [],
   "source": [
    "# from scipy.fft import fftfreq, fft\n",
    "# from scipy.signal import butter, lfilter"
   ]
  },
  {
   "cell_type": "code",
   "execution_count": null,
   "id": "e27e3ec4",
   "metadata": {},
   "outputs": [],
   "source": [
    "# def butter_bandpass (lowcut, highcut, fs, order=6):  #4-38\n",
    "#     nyq = 0.5 * fs\n",
    "#     low = lowcut / nyq\n",
    "#     high = highcut / nyq\n",
    "#     b, a = butter(order, [low, high], btype='band')\n",
    "#     return b, a\n",
    "\n",
    "\n",
    "# def butter_bandpass_filter (signal, lowcut, highcut, fs, order=6):\n",
    "#     b, a = butter_bandpass(lowcut, highcut, fs, order=order)\n",
    "#     y = lfilter(b, a, signal)\n",
    "#     return y"
   ]
  },
  {
   "cell_type": "code",
   "execution_count": null,
   "id": "28e22a88",
   "metadata": {},
   "outputs": [],
   "source": [
    "epochs.resample(sfreq=256)"
   ]
  },
  {
   "cell_type": "code",
   "execution_count": null,
   "id": "97b0b18b",
   "metadata": {},
   "outputs": [],
   "source": [
    "# epochs.filter(0.5, 45., fir_design='firwin')"
   ]
  },
  {
   "cell_type": "code",
   "execution_count": null,
   "id": "47136d4a",
   "metadata": {},
   "outputs": [],
   "source": [
    "iir_params = dict(order=4, ftype='butter')"
   ]
  },
  {
   "cell_type": "code",
   "execution_count": null,
   "id": "79c42dd3",
   "metadata": {
    "scrolled": true
   },
   "outputs": [],
   "source": [
    "epochs.filter(l_freq=0.3, h_freq=70.0, method='iir',\n",
    "              iir_params=iir_params, verbose=True)"
   ]
  },
  {
   "cell_type": "code",
   "execution_count": null,
   "id": "e8b44bf9",
   "metadata": {},
   "outputs": [],
   "source": [
    "# visualize the average epochs fig for 7 classes\n",
    "# epochs['elbow_flexion'].plot_image(title='elbow_flexion', combine='mean')\n",
    "# epochs['elbow_extension'].plot_image(title='elbow_extension', combine='mean')\n",
    "# epochs['supination'].plot_image(title='supination', combine='mean')\n",
    "# epochs['pronation'].plot_image(title='pronation', combine='mean')\n",
    "# epochs['hand_close'].plot_image(title='hand_close', combine='mean')\n",
    "# epochs['hand_open'].plot_image(title='hand_open', combine='mean')\n",
    "# epochs['rest'].plot_image(title='rest', combine='mean')\n",
    "epochs['1'].plot_image(title='elbow_flexion', combine='mean')\n",
    "epochs['2'].plot_image(title='elbow_extension', combine='mean')\n",
    "epochs['3'].plot_image(title='supination', combine='mean')\n",
    "epochs['4'].plot_image(title='pronation', combine='mean')\n",
    "epochs['5'].plot_image(title='hand_close', combine='mean')\n",
    "epochs['6'].plot_image(title='hand_open', combine='mean')\n",
    "epochs['7'].plot_image(title='rest', combine='mean')\n",
    "\n",
    "# plot the evoked fig\n",
    "#evoked_dict = {'elbow_flexion': epochs['elbow_flexion'].average(), 'elbow_extension': epochs['elbow_extension'].average(), 'supination': epochs['supination'].average(), 'pronation': epochs['pronation'].average(),'hand_close': epochs['hand_close'].average(),'hand_open': epochs['hand_open'].average(),'rest': epochs['rest'].average()}\n",
    "evoked_dict = {'elbow_flexion': epochs['1'].average(), 'elbow_extension': epochs['2'].average(), 'supination': epochs['3'].average(), 'pronation': epochs['4'].average(),'hand_close': epochs['5'].average(),'hand_open': epochs['6'].average(),'rest': epochs['7'].average()}\n",
    "# evoked_dict = {'elbow_flexion': epochs['1'].average(), 'elbow_extension': epochs['2'].average(), 'supination': epochs['3'].average(), 'pronation': epochs['4'].average(),'hand_close': epochs['5'].average(),'hand_open': epochs['6'].average()}\n",
    "mne.viz.plot_compare_evokeds(evoked_dict)"
   ]
  },
  {
   "cell_type": "code",
   "execution_count": null,
   "id": "ed58c648",
   "metadata": {},
   "outputs": [],
   "source": [
    "evoked = epochs['1'].average()\n",
    "# print(evoked)\n",
    "evoked.plot(time_unit='s')"
   ]
  },
  {
   "cell_type": "markdown",
   "id": "ea5685fc",
   "metadata": {},
   "source": [
    "data = epochs.get_data()\n",
    "\n",
    "n_events = len(data) # or len(epochs.events)\n",
    "print(\"Number of events: \" + str(n_events))\n",
    "\n",
    "n_channels = len(data[0,:]) # or len(epochs.ch_names)\n",
    "print(\"Number of channels: \" + str(n_channels))\n",
    "\n",
    "n_times = len(data[0,0,:]) # or len(epochs.times)\n",
    "print(\"Number of time instances: \" + str(n_times))"
   ]
  },
  {
   "cell_type": "code",
   "execution_count": null,
   "id": "ee5cc1f7",
   "metadata": {},
   "outputs": [],
   "source": [
    "import os"
   ]
  },
  {
   "cell_type": "code",
   "execution_count": null,
   "id": "3f061d12",
   "metadata": {},
   "outputs": [],
   "source": [
    "# data_csv = data.reshape( [-1, data.shape[-1]] )\n",
    "# preprocessed_dir = './data/preprocessed'\n",
    "# csv_file = 's_06'+'.csv'\n",
    "# np.savetxt(os.path.join(preprocessed_dir, csv_file),\n",
    "#            data_csv,\n",
    "#            delimiter=',')"
   ]
  },
  {
   "cell_type": "code",
   "execution_count": null,
   "id": "83f56eff",
   "metadata": {},
   "outputs": [],
   "source": [
    "# label_csv = epochs.events[:, 2].astype(np.int32)\n",
    "# label_file = 's_06'+'_label.csv'\n",
    "# label_file = os.path.join(preprocessed_dir, label_file)\n",
    "# np.savetxt(label_file,\n",
    "#            label_csv,\n",
    "#            delimiter=',')"
   ]
  },
  {
   "cell_type": "code",
   "execution_count": null,
   "id": "e1e26547",
   "metadata": {},
   "outputs": [],
   "source": [
    "data = epochs.get_data()*1000"
   ]
  },
  {
   "cell_type": "code",
   "execution_count": null,
   "id": "2cf54053",
   "metadata": {},
   "outputs": [],
   "source": [
    "data.shape"
   ]
  },
  {
   "cell_type": "code",
   "execution_count": null,
   "id": "9e2be4f0",
   "metadata": {},
   "outputs": [],
   "source": [
    "from sklearn.preprocessing import OneHotEncoder\n",
    "enc = OneHotEncoder()\n",
    "X_out = enc.fit_transform(labels.reshape(-1,1)).toarray()"
   ]
  },
  {
   "cell_type": "code",
   "execution_count": null,
   "id": "d924b730",
   "metadata": {},
   "outputs": [],
   "source": [
    "X_out.shape"
   ]
  },
  {
   "cell_type": "code",
   "execution_count": null,
   "id": "eee22276",
   "metadata": {},
   "outputs": [],
   "source": [
    "# pip install pyriemann"
   ]
  },
  {
   "cell_type": "code",
   "execution_count": 2,
   "id": "2d688e77",
   "metadata": {},
   "outputs": [],
   "source": [
    "# EEGNet-specific imports\n",
    "from EEGModels import EEGNet\n",
    "from EEGModels import DeepConvNet\n",
    "from EEGModels import MyNet\n",
    "from tensorflow.keras import utils as np_utils\n",
    "from tensorflow.keras.callbacks import ModelCheckpoint\n",
    "from tensorflow.keras import backend as K\n",
    "\n",
    "# PyRiemann imports\n",
    "from pyriemann.estimation import XdawnCovariances\n",
    "from pyriemann.tangentspace import TangentSpace\n",
    "# from pyriemann.utils.viz import plot_confusion_matrix\n",
    "from sklearn.pipeline import make_pipeline\n",
    "from sklearn.linear_model import LogisticRegression"
   ]
  },
  {
   "cell_type": "code",
   "execution_count": null,
   "id": "3df7d56f",
   "metadata": {},
   "outputs": [],
   "source": [
    "X=data\n",
    "y=labels"
   ]
  },
  {
   "cell_type": "code",
   "execution_count": null,
   "id": "73a0e019",
   "metadata": {},
   "outputs": [],
   "source": [
    "from sklearn.utils import shuffle"
   ]
  },
  {
   "cell_type": "code",
   "execution_count": null,
   "id": "8d343da3",
   "metadata": {},
   "outputs": [],
   "source": [
    "X, y = shuffle(X, y)"
   ]
  },
  {
   "cell_type": "code",
   "execution_count": 9,
   "id": "e92a236a",
   "metadata": {},
   "outputs": [],
   "source": [
    "# kernels, chans, samples = 1, len(X[0,:]), len(X[0,0,:])\n",
    "kernels, chans, samples = 1, 61, 1578"
   ]
  },
  {
   "cell_type": "code",
   "execution_count": 10,
   "id": "6cfcc3b1",
   "metadata": {},
   "outputs": [
    {
     "name": "stdout",
     "output_type": "stream",
     "text": [
      "1578\n"
     ]
    }
   ],
   "source": [
    "print(samples)"
   ]
  },
  {
   "cell_type": "code",
   "execution_count": null,
   "id": "34d0bde1",
   "metadata": {},
   "outputs": [],
   "source": [
    "X.shape"
   ]
  },
  {
   "cell_type": "code",
   "execution_count": null,
   "id": "0de9dfbf",
   "metadata": {},
   "outputs": [],
   "source": [
    "X_train      = X[0:336,]\n",
    "Y_train      = y[0:336]\n",
    "X_validate   = X[336:378,]\n",
    "Y_validate   = y[336:378]\n",
    "X_test       = X[378:,]\n",
    "Y_test       = y[378:]"
   ]
  },
  {
   "cell_type": "code",
   "execution_count": null,
   "id": "167e88d3",
   "metadata": {},
   "outputs": [],
   "source": [
    "Y_train      = np_utils.to_categorical(Y_train-1)\n",
    "Y_validate   = np_utils.to_categorical(Y_validate-1)\n",
    "Y_test       = np_utils.to_categorical(Y_test-1)"
   ]
  },
  {
   "cell_type": "code",
   "execution_count": null,
   "id": "034243fb",
   "metadata": {},
   "outputs": [],
   "source": [
    "X_train.shape"
   ]
  },
  {
   "cell_type": "code",
   "execution_count": null,
   "id": "cfb4dedb",
   "metadata": {},
   "outputs": [],
   "source": [
    "X_train      = X_train.reshape(X_train.shape[0], chans, samples, kernels)\n",
    "X_validate   = X_validate.reshape(X_validate.shape[0], chans, samples, kernels)\n",
    "X_test       = X_test.reshape(X_test.shape[0], chans, samples, kernels)"
   ]
  },
  {
   "cell_type": "code",
   "execution_count": null,
   "id": "9656a8f8",
   "metadata": {},
   "outputs": [],
   "source": [
    "print('X_train shape:', X_train.shape)\n",
    "print(X_train.shape[0], 'train samples')\n",
    "print(X_test.shape[0], 'test samples')"
   ]
  },
  {
   "cell_type": "code",
   "execution_count": null,
   "id": "d46c2b88",
   "metadata": {},
   "outputs": [],
   "source": []
  },
  {
   "cell_type": "code",
   "execution_count": null,
   "id": "2118a534",
   "metadata": {},
   "outputs": [],
   "source": []
  },
  {
   "cell_type": "code",
   "execution_count": null,
   "id": "92845f06",
   "metadata": {},
   "outputs": [],
   "source": [
    "# model = EEGNet(nb_classes = 7, Chans = chans, Samples = samples, \n",
    "#                dropoutRate = 0.5, kernLength = 32, F1 = 8, D = 2, F2 = 16, \n",
    "#                dropoutType = 'Dropout')"
   ]
  },
  {
   "cell_type": "code",
   "execution_count": null,
   "id": "902d7b6e",
   "metadata": {},
   "outputs": [],
   "source": [
    "# model = DeepConvNet(nb_classes = 7, Chans = chans, Samples = samples,\n",
    "#                  dropoutRate = 0.5)"
   ]
  },
  {
   "cell_type": "code",
   "execution_count": 11,
   "id": "d24eb498",
   "metadata": {},
   "outputs": [
    {
     "name": "stderr",
     "output_type": "stream",
     "text": [
      "2023-10-18 19:07:08.204247: I tensorflow/core/common_runtime/pluggable_device/pluggable_device_factory.cc:306] Could not identify NUMA node of platform GPU ID 0, defaulting to 0. Your kernel may not have been built with NUMA support.\n",
      "2023-10-18 19:07:08.204858: I tensorflow/core/common_runtime/pluggable_device/pluggable_device_factory.cc:272] Created TensorFlow device (/job:localhost/replica:0/task:0/device:GPU:0 with 0 MB memory) -> physical PluggableDevice (device: 0, name: METAL, pci bus id: <undefined>)\n"
     ]
    },
    {
     "name": "stdout",
     "output_type": "stream",
     "text": [
      "Metal device set to: Apple M1\n"
     ]
    }
   ],
   "source": [
    "model = MyNet(nb_classes = 7, Chans = chans, Samples = samples,\n",
    "                 dropoutRate = 0.75)"
   ]
  },
  {
   "cell_type": "code",
   "execution_count": 12,
   "id": "fb133daa",
   "metadata": {},
   "outputs": [],
   "source": [
    "from tensorflow.keras.optimizers.legacy import Adam\n",
    "adam=Adam()"
   ]
  },
  {
   "cell_type": "code",
   "execution_count": 13,
   "id": "80de6f97",
   "metadata": {},
   "outputs": [],
   "source": [
    "model.compile(loss='categorical_crossentropy', optimizer=adam, \n",
    "              metrics = ['accuracy'])"
   ]
  },
  {
   "cell_type": "code",
   "execution_count": 22,
   "id": "a1cf1252",
   "metadata": {},
   "outputs": [
    {
     "name": "stdout",
     "output_type": "stream",
     "text": [
      "Model: \"model\"\n",
      "_________________________________________________________________\n",
      " Layer (type)                Output Shape              Param #   \n",
      "=================================================================\n",
      " input_1 (InputLayer)        [(None, 61, 1578, 1)]     0         \n",
      "                                                                 \n",
      " conv2d (Conv2D)             (None, 61, 1569, 25)      275       \n",
      "                                                                 \n",
      " conv2d_1 (Conv2D)           (None, 1, 1569, 25)       38150     \n",
      "                                                                 \n",
      " batch_normalization (BatchN  (None, 1, 1569, 25)      100       \n",
      " ormalization)                                                   \n",
      "                                                                 \n",
      " activation (Activation)     (None, 1, 1569, 25)       0         \n",
      "                                                                 \n",
      " max_pooling2d (MaxPooling2D  (None, 1, 523, 25)       0         \n",
      " )                                                               \n",
      "                                                                 \n",
      " dropout (Dropout)           (None, 1, 523, 25)        0         \n",
      "                                                                 \n",
      " conv2d_2 (Conv2D)           (None, 1, 514, 50)        12550     \n",
      "                                                                 \n",
      " batch_normalization_1 (Batc  (None, 1, 514, 50)       200       \n",
      " hNormalization)                                                 \n",
      "                                                                 \n",
      " activation_1 (Activation)   (None, 1, 514, 50)        0         \n",
      "                                                                 \n",
      " max_pooling2d_1 (MaxPooling  (None, 1, 171, 50)       0         \n",
      " 2D)                                                             \n",
      "                                                                 \n",
      " dropout_1 (Dropout)         (None, 1, 171, 50)        0         \n",
      "                                                                 \n",
      " conv2d_3 (Conv2D)           (None, 1, 162, 100)       50100     \n",
      "                                                                 \n",
      " batch_normalization_2 (Batc  (None, 1, 162, 100)      400       \n",
      " hNormalization)                                                 \n",
      "                                                                 \n",
      " activation_2 (Activation)   (None, 1, 162, 100)       0         \n",
      "                                                                 \n",
      " max_pooling2d_2 (MaxPooling  (None, 1, 54, 100)       0         \n",
      " 2D)                                                             \n",
      "                                                                 \n",
      " dropout_2 (Dropout)         (None, 1, 54, 100)        0         \n",
      "                                                                 \n",
      " conv2d_4 (Conv2D)           (None, 1, 45, 200)        200200    \n",
      "                                                                 \n",
      " batch_normalization_3 (Batc  (None, 1, 45, 200)       800       \n",
      " hNormalization)                                                 \n",
      "                                                                 \n",
      " activation_3 (Activation)   (None, 1, 45, 200)        0         \n",
      "                                                                 \n",
      " max_pooling2d_3 (MaxPooling  (None, 1, 15, 200)       0         \n",
      " 2D)                                                             \n",
      "                                                                 \n",
      " dropout_3 (Dropout)         (None, 1, 15, 200)        0         \n",
      "                                                                 \n",
      " flatten (Flatten)           (None, 3000)              0         \n",
      "                                                                 \n",
      " dense (Dense)               (None, 7)                 21007     \n",
      "                                                                 \n",
      " activation_4 (Activation)   (None, 7)                 0         \n",
      "                                                                 \n",
      "=================================================================\n",
      "Total params: 323,782\n",
      "Trainable params: 323,032\n",
      "Non-trainable params: 750\n",
      "_________________________________________________________________\n"
     ]
    }
   ],
   "source": [
    "model.summary()"
   ]
  },
  {
   "cell_type": "code",
   "execution_count": 23,
   "id": "5cf82f24",
   "metadata": {},
   "outputs": [
    {
     "name": "stdout",
     "output_type": "stream",
     "text": [
      "Collecting visualkeras\n",
      "  Downloading visualkeras-0.0.2-py3-none-any.whl (12 kB)\n",
      "Requirement already satisfied: numpy>=1.18.1 in /opt/homebrew/Caskroom/miniforge/base/envs/eeg/lib/python3.10/site-packages (from visualkeras) (1.23.2)\n",
      "Requirement already satisfied: pillow>=6.2.0 in /opt/homebrew/Caskroom/miniforge/base/envs/eeg/lib/python3.10/site-packages (from visualkeras) (9.5.0)\n",
      "Collecting aggdraw>=1.3.11\n",
      "  Downloading aggdraw-1.3.18-cp310-cp310-macosx_11_0_arm64.whl (72 kB)\n",
      "\u001b[2K     \u001b[90m━━━━━━━━━━━━━━━━━━━━━━━━━━━━━━━━━━━━━━━━\u001b[0m \u001b[32m72.0/72.0 kB\u001b[0m \u001b[31m2.1 MB/s\u001b[0m eta \u001b[36m0:00:00\u001b[0m\n",
      "\u001b[?25hInstalling collected packages: aggdraw, visualkeras\n",
      "Successfully installed aggdraw-1.3.18 visualkeras-0.0.2\n",
      "Note: you may need to restart the kernel to use updated packages.\n"
     ]
    }
   ],
   "source": [
    "pip install visualkeras"
   ]
  },
  {
   "cell_type": "code",
   "execution_count": 24,
   "id": "5e41e760",
   "metadata": {},
   "outputs": [],
   "source": [
    "import visualkeras"
   ]
  },
  {
   "cell_type": "code",
   "execution_count": 37,
   "id": "0a8f451a",
   "metadata": {},
   "outputs": [
    {
     "name": "stdout",
     "output_type": "stream",
     "text": [
      "Requirement already satisfied: pillow in /opt/homebrew/Caskroom/miniforge/base/envs/eeg/lib/python3.10/site-packages (9.5.0)\n",
      "Note: you may need to restart the kernel to use updated packages.\n"
     ]
    }
   ],
   "source": [
    "pip install pillow"
   ]
  },
  {
   "cell_type": "code",
   "execution_count": 41,
   "id": "4d9c774d",
   "metadata": {},
   "outputs": [
    {
     "data": {
      "image/png": "[encoded data removed]",
      "text/plain": [
       "<PIL.Image.Image image mode=RGBA size=1084x2216>"
      ]
     },
     "execution_count": 41,
     "metadata": {},
     "output_type": "execute_result"
    }
   ],
   "source": [
    "from PIL import ImageFont\n",
    "font = ImageFont.truetype(\"/Library/Fonts/Arial.ttf\", 32)\n",
    "visualkeras.layered_view(model,legend=True,font=font, to_file='output.png')\n"
   ]
  },
  {
   "cell_type": "code",
   "execution_count": 29,
   "id": "54d7442a",
   "metadata": {},
   "outputs": [
    {
     "data": {
      "image/png": "[encoded data removed]",
      "text/plain": [
       "<IPython.core.display.Image object>"
      ]
     },
     "execution_count": 29,
     "metadata": {},
     "output_type": "execute_result"
    }
   ],
   "source": [
    "from keras.utils.vis_utils import plot_model\n",
    "plot_model(model, to_file='model_plot.png', show_shapes=True, show_layer_names=True)"
   ]
  },
  {
   "cell_type": "code",
   "execution_count": 26,
   "id": "bdff58c6",
   "metadata": {},
   "outputs": [
    {
     "data": {
      "image/png": "[encoded data removed]",
      "text/plain": [
       "<PIL.Image.Image image mode=RGBA size=1084x2082>"
      ]
     },
     "execution_count": 26,
     "metadata": {},
     "output_type": "execute_result"
    }
   ],
   "source": [
    "visualkeras.layered_view(model).show() # display using your system viewer\n",
    "visualkeras.layered_view(model, to_file='output.png')"
   ]
  },
  {
   "cell_type": "code",
   "execution_count": 28,
   "id": "50c66985",
   "metadata": {},
   "outputs": [
    {
     "ename": "TypeError",
     "evalue": "'Functional' object is not iterable",
     "output_type": "error",
     "traceback": [
      "\u001b[0;31m---------------------------------------------------------------------------\u001b[0m",
      "\u001b[0;31mTypeError\u001b[0m                                 Traceback (most recent call last)",
      "Cell \u001b[0;32mIn[28], line 3\u001b[0m\n\u001b[1;32m      1\u001b[0m \u001b[38;5;28;01mfrom\u001b[39;00m \u001b[38;5;21;01mtorchviz\u001b[39;00m \u001b[38;5;28;01mimport\u001b[39;00m make_dot\n\u001b[0;32m----> 3\u001b[0m make_dot(model, params\u001b[38;5;241m=\u001b[39m\u001b[38;5;28mdict\u001b[39m(\u001b[38;5;28;43mlist\u001b[39;49m\u001b[43m(\u001b[49m\u001b[43mmodel\u001b[49m\u001b[43m)\u001b[49m))\u001b[38;5;241m.\u001b[39mrender(\u001b[38;5;124m\"\u001b[39m\u001b[38;5;124mrnn_torchviz\u001b[39m\u001b[38;5;124m\"\u001b[39m, \u001b[38;5;28mformat\u001b[39m\u001b[38;5;241m=\u001b[39m\u001b[38;5;124m\"\u001b[39m\u001b[38;5;124mpng\u001b[39m\u001b[38;5;124m\"\u001b[39m)\n",
      "\u001b[0;31mTypeError\u001b[0m: 'Functional' object is not iterable"
     ]
    }
   ],
   "source": []
  },
  {
   "cell_type": "code",
   "execution_count": 20,
   "id": "4116634a",
   "metadata": {},
   "outputs": [
    {
     "ename": "AttributeError",
     "evalue": "'Functional' object has no attribute 'training'",
     "output_type": "error",
     "traceback": [
      "\u001b[0;31m---------------------------------------------------------------------------\u001b[0m",
      "\u001b[0;31mAttributeError\u001b[0m                            Traceback (most recent call last)",
      "Cell \u001b[0;32mIn[20], line 4\u001b[0m\n\u001b[1;32m      1\u001b[0m \u001b[38;5;28;01mfrom\u001b[39;00m \u001b[38;5;21;01mtorchview\u001b[39;00m \u001b[38;5;28;01mimport\u001b[39;00m draw_graph\n\u001b[1;32m      3\u001b[0m mode \u001b[38;5;241m=\u001b[39m model\n\u001b[0;32m----> 4\u001b[0m model_graph \u001b[38;5;241m=\u001b[39m \u001b[43mdraw_graph\u001b[49m\u001b[43m(\u001b[49m\u001b[43mmode\u001b[49m\u001b[43m,\u001b[49m\u001b[43m \u001b[49m\u001b[43minput_size\u001b[49m\u001b[38;5;241;43m=\u001b[39;49m\u001b[43m(\u001b[49m\u001b[38;5;241;43m520\u001b[39;49m\u001b[43m,\u001b[49m\u001b[38;5;241;43m61\u001b[39;49m\u001b[43m,\u001b[49m\u001b[38;5;241;43m1578\u001b[39;49m\u001b[43m,\u001b[49m\u001b[38;5;241;43m1\u001b[39;49m\u001b[43m)\u001b[49m\u001b[43m,\u001b[49m\u001b[43m \u001b[49m\u001b[43mdevice\u001b[49m\u001b[38;5;241;43m=\u001b[39;49m\u001b[38;5;124;43m'\u001b[39;49m\u001b[38;5;124;43mmeta\u001b[39;49m\u001b[38;5;124;43m'\u001b[39;49m\u001b[43m)\u001b[49m\n\u001b[1;32m      5\u001b[0m model_graph\u001b[38;5;241m.\u001b[39mvisual_graph\n",
      "File \u001b[0;32m/opt/homebrew/Caskroom/miniforge/base/envs/eeg/lib/python3.10/site-packages/torchview/torchview.py:220\u001b[0m, in \u001b[0;36mdraw_graph\u001b[0;34m(model, input_data, input_size, graph_name, depth, device, dtypes, mode, strict, expand_nested, graph_dir, hide_module_functions, hide_inner_tensors, roll, show_shapes, save_graph, filename, directory, **kwargs)\u001b[0m\n\u001b[1;32m    211\u001b[0m input_recorder_tensor, kwargs_record_tensor, input_nodes \u001b[38;5;241m=\u001b[39m process_input(\n\u001b[1;32m    212\u001b[0m     input_data, input_size, kwargs, device, dtypes\n\u001b[1;32m    213\u001b[0m )\n\u001b[1;32m    215\u001b[0m model_graph \u001b[38;5;241m=\u001b[39m ComputationGraph(\n\u001b[1;32m    216\u001b[0m     visual_graph, input_nodes, show_shapes, expand_nested,\n\u001b[1;32m    217\u001b[0m     hide_inner_tensors, hide_module_functions, roll, depth\n\u001b[1;32m    218\u001b[0m )\n\u001b[0;32m--> 220\u001b[0m \u001b[43mforward_prop\u001b[49m\u001b[43m(\u001b[49m\n\u001b[1;32m    221\u001b[0m \u001b[43m    \u001b[49m\u001b[43mmodel\u001b[49m\u001b[43m,\u001b[49m\u001b[43m \u001b[49m\u001b[43minput_recorder_tensor\u001b[49m\u001b[43m,\u001b[49m\u001b[43m \u001b[49m\u001b[43mdevice\u001b[49m\u001b[43m,\u001b[49m\u001b[43m \u001b[49m\u001b[43mmodel_graph\u001b[49m\u001b[43m,\u001b[49m\n\u001b[1;32m    222\u001b[0m \u001b[43m    \u001b[49m\u001b[43mmodel_mode\u001b[49m\u001b[43m,\u001b[49m\u001b[43m \u001b[49m\u001b[38;5;241;43m*\u001b[39;49m\u001b[38;5;241;43m*\u001b[39;49m\u001b[43mkwargs_record_tensor\u001b[49m\n\u001b[1;32m    223\u001b[0m \u001b[43m\u001b[49m\u001b[43m)\u001b[49m\n\u001b[1;32m    225\u001b[0m model_graph\u001b[38;5;241m.\u001b[39mfill_visual_graph()\n\u001b[1;32m    227\u001b[0m \u001b[38;5;28;01mif\u001b[39;00m save_graph:\n",
      "File \u001b[0;32m/opt/homebrew/Caskroom/miniforge/base/envs/eeg/lib/python3.10/site-packages/torchview/torchview.py:242\u001b[0m, in \u001b[0;36mforward_prop\u001b[0;34m(model, x, device, model_graph, mode, **kwargs)\u001b[0m\n\u001b[1;32m    232\u001b[0m \u001b[38;5;28;01mdef\u001b[39;00m \u001b[38;5;21mforward_prop\u001b[39m(\n\u001b[1;32m    233\u001b[0m     model: nn\u001b[38;5;241m.\u001b[39mModule,\n\u001b[1;32m    234\u001b[0m     x: CORRECTED_INPUT_DATA_TYPE,\n\u001b[0;32m   (...)\u001b[0m\n\u001b[1;32m    238\u001b[0m     \u001b[38;5;241m*\u001b[39m\u001b[38;5;241m*\u001b[39mkwargs: Any,\n\u001b[1;32m    239\u001b[0m ) \u001b[38;5;241m-\u001b[39m\u001b[38;5;241m>\u001b[39m \u001b[38;5;28;01mNone\u001b[39;00m:\n\u001b[1;32m    240\u001b[0m \u001b[38;5;250m    \u001b[39m\u001b[38;5;124;03m'''Performs forward propagation of model on RecorderTensor\u001b[39;00m\n\u001b[1;32m    241\u001b[0m \u001b[38;5;124;03m    inside context to use module_forward_wrapper'''\u001b[39;00m\n\u001b[0;32m--> 242\u001b[0m     saved_model_mode \u001b[38;5;241m=\u001b[39m \u001b[43mmodel\u001b[49m\u001b[38;5;241;43m.\u001b[39;49m\u001b[43mtraining\u001b[49m\n\u001b[1;32m    243\u001b[0m     \u001b[38;5;28;01mtry\u001b[39;00m:\n\u001b[1;32m    244\u001b[0m         \u001b[38;5;28;01mif\u001b[39;00m mode \u001b[38;5;241m==\u001b[39m \u001b[38;5;124m'\u001b[39m\u001b[38;5;124mtrain\u001b[39m\u001b[38;5;124m'\u001b[39m:\n",
      "\u001b[0;31mAttributeError\u001b[0m: 'Functional' object has no attribute 'training'"
     ]
    }
   ],
   "source": [
    "from torchview import draw_graph\n",
    "\n",
    "mode = model\n",
    "model_graph = draw_graph(mode, input_size=(520,61,1578,1), device='meta')\n",
    "model_graph.visual_graph"
   ]
  },
  {
   "cell_type": "code",
   "execution_count": 17,
   "id": "eb624b62",
   "metadata": {},
   "outputs": [
    {
     "name": "stdout",
     "output_type": "stream",
     "text": [
      "Collecting torchview\n",
      "  Downloading torchview-0.2.6-py3-none-any.whl (25 kB)\n",
      "Installing collected packages: torchview\n",
      "Successfully installed torchview-0.2.6\n",
      "Note: you may need to restart the kernel to use updated packages.\n"
     ]
    }
   ],
   "source": [
    "pip install torchview"
   ]
  },
  {
   "cell_type": "code",
   "execution_count": 15,
   "id": "4905cddb",
   "metadata": {},
   "outputs": [
    {
     "name": "stdout",
     "output_type": "stream",
     "text": [
      "Collecting torchviz\n",
      "  Downloading torchviz-0.0.2.tar.gz (4.9 kB)\n",
      "  Preparing metadata (setup.py) ... \u001b[?25ldone\n",
      "\u001b[?25hRequirement already satisfied: torch in /opt/homebrew/Caskroom/miniforge/base/envs/eeg/lib/python3.10/site-packages (from torchviz) (2.0.0)\n",
      "Collecting graphviz\n",
      "  Downloading graphviz-0.20.1-py3-none-any.whl (47 kB)\n",
      "\u001b[2K     \u001b[90m━━━━━━━━━━━━━━━━━━━━━━━━━━━━━━━━━━━━━━━━\u001b[0m \u001b[32m47.0/47.0 kB\u001b[0m \u001b[31m2.0 MB/s\u001b[0m eta \u001b[36m0:00:00\u001b[0m\n",
      "\u001b[?25hRequirement already satisfied: sympy in /opt/homebrew/Caskroom/miniforge/base/envs/eeg/lib/python3.10/site-packages (from torch->torchviz) (1.11.1)\n",
      "Requirement already satisfied: networkx in /opt/homebrew/Caskroom/miniforge/base/envs/eeg/lib/python3.10/site-packages (from torch->torchviz) (3.1)\n",
      "Requirement already satisfied: jinja2 in /opt/homebrew/Caskroom/miniforge/base/envs/eeg/lib/python3.10/site-packages (from torch->torchviz) (3.1.2)\n",
      "Requirement already satisfied: typing-extensions in /Users/navtegh/.local/lib/python3.10/site-packages (from torch->torchviz) (4.4.0)\n",
      "Requirement already satisfied: filelock in /opt/homebrew/Caskroom/miniforge/base/envs/eeg/lib/python3.10/site-packages (from torch->torchviz) (3.11.0)\n",
      "Requirement already satisfied: MarkupSafe>=2.0 in /Users/navtegh/.local/lib/python3.10/site-packages (from jinja2->torch->torchviz) (2.1.2)\n",
      "Requirement already satisfied: mpmath>=0.19 in /opt/homebrew/Caskroom/miniforge/base/envs/eeg/lib/python3.10/site-packages (from sympy->torch->torchviz) (1.3.0)\n",
      "Building wheels for collected packages: torchviz\n",
      "  Building wheel for torchviz (setup.py) ... \u001b[?25ldone\n",
      "\u001b[?25h  Created wheel for torchviz: filename=torchviz-0.0.2-py3-none-any.whl size=4131 sha256=9bfea4f814ae40efde6c6db35cbaa90321b1ef67d76d1a27258ffa41f6fb22c2\n",
      "  Stored in directory: /Users/navtegh/Library/Caches/pip/wheels/4c/97/88/a02973217949e0db0c9f4346d154085f4725f99c4f15a87094\n",
      "Successfully built torchviz\n",
      "Installing collected packages: graphviz, torchviz\n",
      "Successfully installed graphviz-0.20.1 torchviz-0.0.2\n",
      "Note: you may need to restart the kernel to use updated packages.\n"
     ]
    }
   ],
   "source": [
    "pip install torchviz"
   ]
  },
  {
   "cell_type": "code",
   "execution_count": null,
   "id": "36d6525a",
   "metadata": {},
   "outputs": [],
   "source": [
    "numParams    = model.count_params()    "
   ]
  },
  {
   "cell_type": "code",
   "execution_count": null,
   "id": "549233c9",
   "metadata": {},
   "outputs": [],
   "source": [
    "numParams"
   ]
  },
  {
   "cell_type": "code",
   "execution_count": null,
   "id": "ed800a8e",
   "metadata": {},
   "outputs": [],
   "source": [
    "checkpointer = ModelCheckpoint(filepath='/Users/navtegh/Desktop/eeg/models/checkpoint.h5', verbose=1,\n",
    "                               save_best_only=True)"
   ]
  },
  {
   "cell_type": "code",
   "execution_count": null,
   "id": "060009a2",
   "metadata": {},
   "outputs": [],
   "source": [
    "class_weights = {0:1, 1:1, 2:1, 3:1, 4:1, 5:1, 6:1}\n",
    "# class_weights = {0:1, 1:1, 2:1, 3:1, 4:1, 5:1}"
   ]
  },
  {
   "cell_type": "code",
   "execution_count": null,
   "id": "addbc72c",
   "metadata": {},
   "outputs": [],
   "source": []
  },
  {
   "cell_type": "code",
   "execution_count": null,
   "id": "2d50362d",
   "metadata": {
    "scrolled": false
   },
   "outputs": [],
   "source": [
    "fittedModel = model.fit(X_train, Y_train, batch_size = 16, epochs = 100, \n",
    "                        verbose = 2, validation_data=(X_validate, Y_validate),\n",
    "                        callbacks=[checkpointer], class_weight = class_weights)"
   ]
  },
  {
   "cell_type": "code",
   "execution_count": null,
   "id": "87a56b60",
   "metadata": {},
   "outputs": [],
   "source": [
    "probs       = model.predict(X_test)\n",
    "preds       = probs.argmax(axis = -1)  \n",
    "acc         = np.mean(preds == Y_test.argmax(axis=-1))\n",
    "print(\"Classification accuracy: %f \" % (acc))"
   ]
  },
  {
   "cell_type": "code",
   "execution_count": null,
   "id": "7520935c",
   "metadata": {},
   "outputs": [],
   "source": [
    "import matplotlib.pyplot as plt"
   ]
  },
  {
   "cell_type": "code",
   "execution_count": null,
   "id": "18ece95e",
   "metadata": {},
   "outputs": [],
   "source": [
    "plt.plot(fittedModel.history['accuracy'])\n",
    "plt.plot(fittedModel.history['val_accuracy'])\n",
    "plt.title('model accuracy')\n",
    "plt.ylabel('accuracy')\n",
    "plt.xlabel('epoch')\n",
    "plt.legend(['Train', 'Validation'], loc='upper left')\n",
    "plt.show()\n",
    "# summarize history for loss\n",
    "plt.plot(fittedModel.history['loss'])\n",
    "plt.plot(fittedModel.history['val_loss'])\n",
    "plt.title('model loss')\n",
    "plt.ylabel('loss')\n",
    "plt.xlabel('epoch')\n",
    "plt.legend(['Train', 'Validation'], loc='upper left')\n",
    "plt.show()"
   ]
  },
  {
   "cell_type": "code",
   "execution_count": null,
   "id": "a859f67c",
   "metadata": {},
   "outputs": [],
   "source": [
    "from tensorflow.keras.models import Model\n",
    "from tensorflow.keras.layers import Dense, Activation, Permute, Dropout\n",
    "from tensorflow.keras.layers import Conv2D, MaxPooling2D, AveragePooling2D\n",
    "from tensorflow.keras.layers import SeparableConv2D, DepthwiseConv2D\n",
    "from tensorflow.keras.layers import BatchNormalization\n",
    "from tensorflow.keras.layers import SpatialDropout2D\n",
    "from tensorflow.keras.regularizers import l1_l2\n",
    "from tensorflow.keras.layers import Input, Flatten\n",
    "from tensorflow.keras.constraints import max_norm\n",
    "from tensorflow.keras import backend as K\n",
    "from tensorflow.keras import utils as np_utils"
   ]
  },
  {
   "cell_type": "code",
   "execution_count": null,
   "id": "0913c738",
   "metadata": {},
   "outputs": [],
   "source": [
    "def EEGNet(nb_classes, Chans = 61, Samples = 1537, \n",
    "             dropoutRate = 0.5, kernLength = 64, F1 = 8, \n",
    "             D = 2, F2 = 16, norm_rate = 0.1, dropoutType = 'Dropout'):\n",
    "    \"\"\" Keras Implementation of EEGNet\n",
    "    http://iopscience.iop.org/article/10.1088/1741-2552/aace8c/meta\n",
    "\n",
    "    Note that this implements the newest version of EEGNet and NOT the earlier\n",
    "    version (version v1 and v2 on arxiv). We strongly recommend using this\n",
    "    architecture as it performs much better and has nicer properties than\n",
    "    our earlier version. For example:\n",
    "        \n",
    "        1. Depthwise Convolutions to learn spatial filters within a \n",
    "        temporal convolution. The use of the depth_multiplier option maps \n",
    "        exactly to the number of spatial filters learned within a temporal\n",
    "        filter. This matches the setup of algorithms like FBCSP which learn \n",
    "        spatial filters within each filter in a filter-bank. This also limits \n",
    "        the number of free parameters to fit when compared to a fully-connected\n",
    "        convolution. \n",
    "        \n",
    "        2. Separable Convolutions to learn how to optimally combine spatial\n",
    "        filters across temporal bands. Separable Convolutions are Depthwise\n",
    "        Convolutions followed by (1x1) Pointwise Convolutions. \n",
    "        \n",
    "    \n",
    "    While the original paper used Dropout, we found that SpatialDropout2D \n",
    "    sometimes produced slightly better results for classification of ERP \n",
    "    signals. However, SpatialDropout2D significantly reduced performance \n",
    "    on the Oscillatory dataset (SMR, BCI-IV Dataset 2A). We recommend using\n",
    "    the default Dropout in most cases.\n",
    "        \n",
    "    Assumes the input signal is sampled at 128Hz. If you want to use this model\n",
    "    for any other sampling rate you will need to modify the lengths of temporal\n",
    "    kernels and average pooling size in blocks 1 and 2 as needed (double the \n",
    "    kernel lengths for double the sampling rate, etc). Note that we haven't \n",
    "    tested the model performance with this rule so this may not work well. \n",
    "    \n",
    "    The model with default parameters gives the EEGNet-8,2 model as discussed\n",
    "    in the paper. This model should do pretty well in general, although it is\n",
    "\tadvised to do some model searching to get optimal performance on your\n",
    "\tparticular dataset.\n",
    "\n",
    "    We set F2 = F1 * D (number of input filters = number of output filters) for\n",
    "    the SeparableConv2D layer. We haven't extensively tested other values of this\n",
    "    parameter (say, F2 < F1 * D for compressed learning, and F2 > F1 * D for\n",
    "    overcomplete). We believe the main parameters to focus on are F1 and D. \n",
    "\n",
    "    Inputs:\n",
    "        \n",
    "      nb_classes      : int, number of classes to classify\n",
    "      Chans, Samples  : number of channels and time points in the EEG data\n",
    "      dropoutRate     : dropout fraction\n",
    "      kernLength      : length of temporal convolution in first layer. We found\n",
    "                        that setting this to be half the sampling rate worked\n",
    "                        well in practice. For the SMR dataset in particular\n",
    "                        since the data was high-passed at 4Hz we used a kernel\n",
    "                        length of 32.     \n",
    "      F1, F2          : number of temporal filters (F1) and number of pointwise\n",
    "                        filters (F2) to learn. Default: F1 = 8, F2 = F1 * D. \n",
    "      D               : number of spatial filters to learn within each temporal\n",
    "                        convolution. Default: D = 2\n",
    "      dropoutType     : Either SpatialDropout2D or Dropout, passed as a string.\n",
    "\n",
    "    \"\"\"\n",
    "    \n",
    "    if dropoutType == 'SpatialDropout2D':\n",
    "        dropoutType = SpatialDropout2D\n",
    "    elif dropoutType == 'Dropout':\n",
    "        dropoutType = Dropout\n",
    "    else:\n",
    "        raise ValueError('dropoutType must be one of SpatialDropout2D '\n",
    "                         'or Dropout, passed as a string.')\n",
    "    \n",
    "    input1   = Input(shape = (Chans, Samples, 1))\n",
    "\n",
    "    ##################################################################\n",
    "    block1       = Conv2D(F1, (1, kernLength), padding = 'same',\n",
    "                                   input_shape = (Chans, Samples, 1),\n",
    "                                   use_bias = False)(input1)\n",
    "    block1       = BatchNormalization()(block1)\n",
    "    block1       = DepthwiseConv2D((Chans, 1), use_bias = False, \n",
    "                                   depth_multiplier = D,\n",
    "                                   depthwise_constraint = max_norm(1.))(block1)\n",
    "    block1       = BatchNormalization()(block1)\n",
    "    block1       = Activation('elu')(block1)\n",
    "    block1       = AveragePooling2D((1, 4))(block1)\n",
    "    block1       = dropoutType(dropoutRate)(block1)\n",
    "    \n",
    "    block2       = SeparableConv2D(F2, (1, 16),\n",
    "                                   use_bias = False, padding = 'same')(block1)\n",
    "    block2       = BatchNormalization()(block2)\n",
    "    block2       = Activation('elu')(block2)\n",
    "    block2       = AveragePooling2D((1, 8))(block2)\n",
    "    block2       = dropoutType(dropoutRate)(block2)\n",
    "        \n",
    "    flatten      = Flatten(name = 'flatten')(block2)\n",
    "    \n",
    "    dense        = Dense(nb_classes, name = 'dense', \n",
    "                         kernel_constraint = max_norm(norm_rate))(flatten)\n",
    "    softmax      = Activation('softmax', name = 'softmax')(dense)\n",
    "    \n",
    "    return Model(inputs=input1, outputs=softmax)\n"
   ]
  },
  {
   "cell_type": "code",
   "execution_count": null,
   "id": "3a965193",
   "metadata": {},
   "outputs": [],
   "source": [
    "def MyNet(nb_classes, Chans = 64, Samples = 256,\n",
    "                dropoutRate = 0.5):\n",
    "    \"\"\" Keras implementation of the Deep Convolutional Network as described in\n",
    "    Schirrmeister et. al. (2017), Human Brain Mapping.\n",
    "    \n",
    "    This implementation assumes the input is a 2-second EEG signal sampled at \n",
    "    128Hz, as opposed to signals sampled at 250Hz as described in the original\n",
    "    paper. We also perform temporal convolutions of length (1, 5) as opposed\n",
    "    to (1, 10) due to this sampling rate difference. \n",
    "    \n",
    "    Note that we use the max_norm constraint on all convolutional layers, as \n",
    "    well as the classification layer. We also change the defaults for the\n",
    "    BatchNormalization layer. We used this based on a personal communication \n",
    "    with the original authors.\n",
    "    \n",
    "                      ours        original paper\n",
    "    pool_size        1, 2        1, 3\n",
    "    strides          1, 2        1, 3\n",
    "    conv filters     1, 5        1, 10\n",
    "    \n",
    "    Note that this implementation has not been verified by the original \n",
    "    authors. \n",
    "    \n",
    "    \"\"\"\n",
    "\n",
    "    # start the model\n",
    "    input_main   = Input((Chans, Samples, 1))\n",
    "    block1       = Conv2D(25, (1, 10), \n",
    "                                 input_shape=(Chans, Samples, 1),\n",
    "                                 kernel_constraint = max_norm(2., axis=(0,1,2)))(input_main)\n",
    "    block1       = Conv2D(25, (Chans, 1),\n",
    "                                 kernel_constraint = max_norm(2., axis=(0,1,2)))(block1)\n",
    "    block1       = BatchNormalization(epsilon=1e-3, momentum=0.9)(block1)\n",
    "    block1       = Activation('elu')(block1)\n",
    "    block1       = MaxPooling2D(pool_size=(1, 3), strides=(1, 2))(block1)\n",
    "    block1       = Dropout(dropoutRate)(block1)\n",
    "  \n",
    "    block2       = Conv2D(50, (1, 10),\n",
    "                                 kernel_constraint = max_norm(2., axis=(0,1,2)))(block1)\n",
    "    block2       = BatchNormalization(epsilon=1e-3, momentum=0.9)(block2)\n",
    "    block2       = Activation('elu')(block2)\n",
    "    block2       = MaxPooling2D(pool_size=(1, 3), strides=(1, 2))(block2)\n",
    "    block2       = Dropout(dropoutRate)(block2)\n",
    "    \n",
    "    block3       = Conv2D(100, (1, 10),\n",
    "                                 kernel_constraint = max_norm(2., axis=(0,1,2)))(block2)\n",
    "    block3       = BatchNormalization(epsilon=1e-3, momentum=0.9)(block3)\n",
    "    block3       = Activation('elu')(block3)\n",
    "    block3       = MaxPooling2D(pool_size=(1, 3), strides=(1, 2))(block3)\n",
    "    block3       = Dropout(dropoutRate)(block3)\n",
    "    \n",
    "    block4       = Conv2D(200, (1, 10),\n",
    "                                 kernel_constraint = max_norm(2., axis=(0,1,2)))(block3)\n",
    "    block4       = BatchNormalization(epsilon=1e-3, momentum=0.9)(block4)\n",
    "    block4       = Activation('elu')(block4)\n",
    "    block4       = MaxPooling2D(pool_size=(1, 3), strides=(1, 2))(block4)\n",
    "    block4       = Dropout(dropoutRate)(block4)\n",
    "    \n",
    "    flatten      = Flatten()(block4)\n",
    "    \n",
    "    dense        = Dense(nb_classes, kernel_constraint = max_norm(0.5))(flatten)\n",
    "    softmax      = Activation('softmax')(dense)\n",
    "    \n",
    "    return Model(inputs=input_main, outputs=softmax)"
   ]
  },
  {
   "cell_type": "code",
   "execution_count": null,
   "id": "a0f35bfb",
   "metadata": {},
   "outputs": [],
   "source": [
    "from sklearn import preprocessing\n",
    "ss = preprocessing.StandardScaler()"
   ]
  },
  {
   "cell_type": "code",
   "execution_count": null,
   "id": "d5f18eda",
   "metadata": {},
   "outputs": [],
   "source": [
    "X=data\n",
    "\n",
    "scaler = preprocessing.StandardScaler()\n",
    "X = scaler.fit_transform(X.reshape(-1, X.shape[-1])).reshape(X.shape)\n",
    "\n",
    "y=labels"
   ]
  },
  {
   "cell_type": "code",
   "execution_count": null,
   "id": "104e7029",
   "metadata": {},
   "outputs": [],
   "source": [
    "X_train      = X[0:210,]\n",
    "Y_train      = y[0:210]\n",
    "X_validate   = X[210:315,]\n",
    "Y_validate   = y[210:315]\n",
    "X_test       = X[315:,]\n",
    "Y_test       = y[315:]"
   ]
  },
  {
   "cell_type": "code",
   "execution_count": null,
   "id": "1b670f39",
   "metadata": {},
   "outputs": [],
   "source": [
    "Y_train      = np_utils.to_categorical(Y_train-1)\n",
    "Y_validate   = np_utils.to_categorical(Y_validate-1)\n",
    "Y_test       = np_utils.to_categorical(Y_test-1)"
   ]
  },
  {
   "cell_type": "code",
   "execution_count": null,
   "id": "d6e99541",
   "metadata": {},
   "outputs": [],
   "source": [
    "kernels, chans, samples = 1, 61, 1588"
   ]
  },
  {
   "cell_type": "code",
   "execution_count": null,
   "id": "88f01850",
   "metadata": {},
   "outputs": [],
   "source": [
    "X_train      = X_train.reshape(X_train.shape[0], chans, samples, kernels)\n",
    "X_validate   = X_validate.reshape(X_validate.shape[0], chans, samples, kernels)\n",
    "X_test       = X_test.reshape(X_test.shape[0], chans, samples, kernels)"
   ]
  },
  {
   "cell_type": "code",
   "execution_count": null,
   "id": "e202646e",
   "metadata": {},
   "outputs": [],
   "source": [
    "print('X_train shape:', X_train.shape)\n",
    "print(X_train.shape[0], 'train samples')\n",
    "print(X_test.shape[0], 'test samples')"
   ]
  },
  {
   "cell_type": "code",
   "execution_count": null,
   "id": "736f52fb",
   "metadata": {},
   "outputs": [],
   "source": [
    "model = EEGNet(nb_classes = 7, Chans = chans, Samples = samples, \n",
    "               dropoutRate = 0.5, kernLength = 8, F1 = 8, D = 2, F2 = 16, \n",
    "               dropoutType = 'SpatialDropout2D')"
   ]
  },
  {
   "cell_type": "code",
   "execution_count": null,
   "id": "57030d4d",
   "metadata": {},
   "outputs": [],
   "source": [
    "# model = DeepConvNet(7, Chans = 61, Samples = 1537,\n",
    "#                 dropoutRate = 0.5)"
   ]
  },
  {
   "cell_type": "code",
   "execution_count": null,
   "id": "19fc3ffd",
   "metadata": {},
   "outputs": [],
   "source": [
    "from tensorflow.keras.optimizers.legacy import Adam\n",
    "adam=Adam()"
   ]
  },
  {
   "cell_type": "code",
   "execution_count": null,
   "id": "265b6c4a",
   "metadata": {},
   "outputs": [],
   "source": [
    "model.compile(loss='categorical_crossentropy', optimizer=adam, \n",
    "              metrics = ['accuracy'])"
   ]
  },
  {
   "cell_type": "code",
   "execution_count": null,
   "id": "7b0d1cb5",
   "metadata": {},
   "outputs": [],
   "source": [
    "numParams    = model.count_params() "
   ]
  },
  {
   "cell_type": "code",
   "execution_count": null,
   "id": "ec7d5ab3",
   "metadata": {},
   "outputs": [],
   "source": [
    "print(numParams)"
   ]
  },
  {
   "cell_type": "code",
   "execution_count": null,
   "id": "5d1358fd",
   "metadata": {},
   "outputs": [],
   "source": [
    "from tensorflow.keras.callbacks import ModelCheckpoint\n",
    "checkpointer = ModelCheckpoint(filepath='/Users/navtegh/Desktop/eeg/tmp/checkpoint.h5', verbose=1,\n",
    "                               save_best_only=True)"
   ]
  },
  {
   "cell_type": "code",
   "execution_count": null,
   "id": "0c268590",
   "metadata": {},
   "outputs": [],
   "source": [
    "class_weights = {0:1, 1:1, 2:1, 3:1, 4:1, 5:1, 6:1}"
   ]
  },
  {
   "cell_type": "code",
   "execution_count": null,
   "id": "f7e4c213",
   "metadata": {},
   "outputs": [],
   "source": [
    "fittedModel = model.fit(X_train, Y_train, batch_size = 16, epochs = 300, \n",
    "                        verbose = 2, validation_data=(X_validate, Y_validate),\n",
    "                        callbacks=[checkpointer], class_weight = class_weights)"
   ]
  },
  {
   "cell_type": "code",
   "execution_count": null,
   "id": "81d09bca",
   "metadata": {},
   "outputs": [],
   "source": [
    "model.load_weights('/tmp/checkpoint.h5')"
   ]
  },
  {
   "cell_type": "code",
   "execution_count": null,
   "id": "42b45bb6",
   "metadata": {},
   "outputs": [],
   "source": []
  },
  {
   "cell_type": "code",
   "execution_count": null,
   "id": "47eb974b",
   "metadata": {},
   "outputs": [],
   "source": []
  },
  {
   "cell_type": "code",
   "execution_count": null,
   "id": "42c8ef09",
   "metadata": {},
   "outputs": [],
   "source": []
  },
  {
   "cell_type": "code",
   "execution_count": null,
   "id": "3e4f6bfe",
   "metadata": {},
   "outputs": [],
   "source": []
  },
  {
   "cell_type": "code",
   "execution_count": null,
   "id": "d9076f01",
   "metadata": {},
   "outputs": [],
   "source": []
  },
  {
   "cell_type": "code",
   "execution_count": null,
   "id": "5dd2c0ee",
   "metadata": {},
   "outputs": [],
   "source": [
    "# convert to Dataframe class\n",
    "epochs_df = epochs.to_data_frame()"
   ]
  },
  {
   "cell_type": "code",
   "execution_count": null,
   "id": "a54c4709",
   "metadata": {},
   "outputs": [],
   "source": [
    "epochs_df.shape"
   ]
  },
  {
   "cell_type": "code",
   "execution_count": null,
   "id": "4a9e1921",
   "metadata": {},
   "outputs": [],
   "source": [
    "print(epochs_df.iloc[1580:1595,:5])"
   ]
  },
  {
   "cell_type": "code",
   "execution_count": null,
   "id": "e8c15bab",
   "metadata": {},
   "outputs": [],
   "source": [
    "import pandas as pd"
   ]
  },
  {
   "cell_type": "code",
   "execution_count": null,
   "id": "a5edbb27",
   "metadata": {},
   "outputs": [],
   "source": [
    "label=pd.to_numeric(epochs_df.iloc[:,1])"
   ]
  },
  {
   "cell_type": "code",
   "execution_count": null,
   "id": "306f1ac8",
   "metadata": {},
   "outputs": [],
   "source": [
    "print(label)"
   ]
  },
  {
   "cell_type": "code",
   "execution_count": null,
   "id": "9d1c40c0",
   "metadata": {},
   "outputs": [],
   "source": [
    "from sklearn.preprocessing import OneHotEncoder\n",
    "enc = OneHotEncoder()\n",
    "X_out = enc.fit_transform(label.to_numpy().reshape(-1,1)).toarray()"
   ]
  },
  {
   "cell_type": "code",
   "execution_count": null,
   "id": "86cba45e",
   "metadata": {},
   "outputs": [],
   "source": [
    "X_out.shape"
   ]
  },
  {
   "cell_type": "code",
   "execution_count": null,
   "id": "643c6d30",
   "metadata": {},
   "outputs": [],
   "source": [
    "final_labels=pd.DataFrame(np.int_(X_out), columns = ['elbow_flexion', 'elbow_extension', 'supination', 'pronation','hand_close','hand_open','rest'])\n"
   ]
  },
  {
   "cell_type": "code",
   "execution_count": null,
   "id": "cb1e7061",
   "metadata": {},
   "outputs": [],
   "source": [
    "final_labels"
   ]
  },
  {
   "cell_type": "code",
   "execution_count": null,
   "id": "308d9b90",
   "metadata": {},
   "outputs": [],
   "source": [
    "final_data=epochs_df.iloc[:,3:]"
   ]
  },
  {
   "cell_type": "code",
   "execution_count": null,
   "id": "315e0e3d",
   "metadata": {},
   "outputs": [],
   "source": [
    "final_data"
   ]
  },
  {
   "cell_type": "code",
   "execution_count": null,
   "id": "776b7476",
   "metadata": {},
   "outputs": [],
   "source": [
    "final_labels.to_csv('subj1_run1_events.csv', index=False)"
   ]
  },
  {
   "cell_type": "code",
   "execution_count": null,
   "id": "7579dabe",
   "metadata": {},
   "outputs": [],
   "source": [
    "final_data.to_csv('subj1_run1_data.csv', index=False)"
   ]
  },
  {
   "cell_type": "code",
   "execution_count": null,
   "id": "322b810f",
   "metadata": {},
   "outputs": [],
   "source": [
    "data.shape"
   ]
  },
  {
   "cell_type": "code",
   "execution_count": null,
   "id": "7b3ed216",
   "metadata": {},
   "outputs": [],
   "source": []
  },
  {
   "cell_type": "code",
   "execution_count": null,
   "id": "461be94f",
   "metadata": {},
   "outputs": [],
   "source": []
  },
  {
   "cell_type": "code",
   "execution_count": null,
   "id": "431a7dd4",
   "metadata": {},
   "outputs": [],
   "source": [
    "import numpy as np # linear algebra\n",
    "import pandas as pd # data processing, CSV file I/O (e.g. pd.read_csv)\n",
    "import keras\n",
    "from keras.models import Sequential\n",
    "from keras.layers import Dense, Dropout\n",
    "from keras.layers import Embedding\n",
    "from keras.layers import LSTM, BatchNormalization, Conv2D, Flatten, MaxPooling2D, Dropout\n",
    "\n",
    "from sklearn.metrics import roc_curve, auc, roc_auc_score\n",
    "from sklearn.metrics import classification_report,confusion_matrix,accuracy_score,roc_curve,auc\n",
    "import tensorflow as tf"
   ]
  },
  {
   "cell_type": "code",
   "execution_count": null,
   "id": "ff435e2d",
   "metadata": {},
   "outputs": [],
   "source": [
    "from tensorflow.keras.optimizers.legacy import Adam\n",
    "adam=Adam()"
   ]
  },
  {
   "cell_type": "code",
   "execution_count": null,
   "id": "85265fc8",
   "metadata": {},
   "outputs": [],
   "source": [
    "import numpy as np\n",
    "\n",
    "model = Sequential()\n",
    "model.add(Conv2D(filters = 64, kernel_size = (7,7), padding = \"same\", activation = \"relu\", input_shape = (61,1537,1)))\n",
    "model.add(BatchNormalization())\n",
    "#model.add(MaxPooling2D(pool_size = (3,3)))\n",
    "model.add(Conv2D(filters = 64, kernel_size = (5,5), padding = \"same\", activation = \"relu\", input_shape = (61,1537,1)))\n",
    "model.add(BatchNormalization())\n",
    "#model.add(MaxPooling2D(pool_size = (3,3)))\n",
    "model.add(Conv2D(filters = 64, kernel_size = (3,3), padding = \"same\", activation = \"relu\", input_shape = (61,1537,1)))\n",
    "model.add(BatchNormalization())\n",
    "#model.add(MaxPooling2D(pool_size = (3,3)))\n",
    "model.add(Flatten())\n",
    "#model.add(Dropout(0.2))\n",
    "model.add(Dense(100, activation = \"relu\"))\n",
    "model.add(BatchNormalization())\n",
    "# model.add(Dropout(0.2))\n",
    "model.add(Dense(7, activation = \"sigmoid\"))\n",
    "\n",
    "model.compile(optimizer = adam, loss = \"binary_crossentropy\", metrics = ['accuracy','mse'])\n",
    "\n",
    "model.summary()\n"
   ]
  },
  {
   "cell_type": "code",
   "execution_count": null,
   "id": "488d03dd",
   "metadata": {},
   "outputs": [],
   "source": [
    "model.fit(tf.stack(data[:38,:,:]),tf.stack(X_out[:38,:]) ,steps_per_epoch = 1, epochs = 10, validation_data=(tf.stack(data[38:,:,:]),tf.stack(X_out[38:,:])),\n",
    "                              validation_steps=1)"
   ]
  },
  {
   "cell_type": "code",
   "execution_count": null,
   "id": "0196cd8b",
   "metadata": {},
   "outputs": [],
   "source": [
    "X_out.shape"
   ]
  },
  {
   "cell_type": "code",
   "execution_count": null,
   "id": "f0c3d7f4",
   "metadata": {},
   "outputs": [],
   "source": [
    "data[:38,:,:].shape"
   ]
  },
  {
   "cell_type": "code",
   "execution_count": null,
   "id": "f7479fa3",
   "metadata": {},
   "outputs": [],
   "source": [
    "from tensorflow.keras.utils import Sequence\n",
    "\n",
    "class DataGeneratorTimeSeries(Sequence):\n",
    "    def __init__(self, X, y, n_steps_in, batch_size=64, shuffle=True):\n",
    "        self.X = X\n",
    "        self.y = y\n",
    "        self.n_steps_in = n_steps_in\n",
    "        self.batch_size = batch_size\n",
    "        self.shuffle = shuffle\n",
    "        self.on_epoch_end()\n",
    "    \n",
    "    def __len__(self):\n",
    "        return int(np.ceil((self.X.shape[0]-self.n_steps_in)/float(self.batch_size)))\n",
    "\n",
    "    def get_seq(self, i):\n",
    "        end_ix = i+self.n_steps_in\n",
    "        seq_x, seq_y = self.X[i:end_ix], self.y[end_ix-1:end_ix]\n",
    "        return seq_x, seq_y\n",
    "\n",
    "    def __getitem__(self, index):\n",
    "        if (index+1)*self.batch_size > self.X.shape[0]:\n",
    "            batch = self.indexes[index*self.batch_size:]\n",
    "        else:\n",
    "            batch = self.indexes[index*self.batch_size:(index+1)*self.batch_size]\n",
    "\n",
    "        X, y = [], []\n",
    "        for i in batch:\n",
    "            X_item, y_item = self.get_seq(i)\n",
    "            X.append(X_item)\n",
    "            y.append(y_item)\n",
    "\n",
    "        X, y = np.array(X), np.array(y)\n",
    "        y = np.reshape(y, (y.shape[0], y.shape[1]*y.shape[2]))\n",
    "\n",
    "        return X, y\n",
    "\n",
    "    def on_epoch_end(self):\n",
    "        self.indexes = np.arange(self.X.shape[0]-self.n_steps_in)\n",
    "        if self.shuffle == True:\n",
    "            np.random.shuffle(self.indexes)"
   ]
  },
  {
   "cell_type": "code",
   "execution_count": null,
   "id": "f16752cc",
   "metadata": {},
   "outputs": [],
   "source": [
    "train_generator = DataGeneratorTimeSeries(X_train, y_train, n_steps_in=10, batch_size=64, shuffle=True)\n",
    "val_generator = DataGeneratorTimeSeries(X_val, y_val, n_steps_in=10, batch_size=64, shuffle=False)\n",
    "\n",
    "len(train_generator), len(val_generator)"
   ]
  },
  {
   "cell_type": "code",
   "execution_count": null,
   "id": "3638d92d",
   "metadata": {},
   "outputs": [],
   "source": [
    "X, y = val_generator.__getitem__(0)\n",
    "# print(np.all(X[0] == X_val[0:10]), np.all(y[0] == y_val[9]))\n",
    "print(X.shape, y.shape)\n",
    "\n",
    "X, y = train_generator.__getitem__(0)\n",
    "# print(np.all(X[0] == X_train[0:10]), np.all(y[0] == y_train[9]))\n",
    "print(X.shape, y.shape)"
   ]
  },
  {
   "cell_type": "code",
   "execution_count": null,
   "id": "72c4dce1",
   "metadata": {},
   "outputs": [],
   "source": [
    "model.fit(train_generator, epochs = 15, validation_data=val_generator)"
   ]
  },
  {
   "cell_type": "code",
   "execution_count": null,
   "id": "223a4ac4",
   "metadata": {},
   "outputs": [],
   "source": [
    "data.shape"
   ]
  },
  {
   "cell_type": "code",
   "execution_count": null,
   "id": "4de4b798",
   "metadata": {},
   "outputs": [],
   "source": []
  },
  {
   "cell_type": "code",
   "execution_count": null,
   "id": "bc58eda0",
   "metadata": {},
   "outputs": [],
   "source": []
  },
  {
   "cell_type": "code",
   "execution_count": null,
   "id": "eeb7e9ff",
   "metadata": {},
   "outputs": [],
   "source": []
  },
  {
   "cell_type": "code",
   "execution_count": null,
   "id": "4216b7e4",
   "metadata": {},
   "outputs": [],
   "source": [
    "import pywt\n",
    "\n",
    "# signal is decomposed to level 5 with 'db4' wavelet\n",
    "\n",
    "def wpd(X): \n",
    "    coeffs = pywt.WaveletPacket(X,'db4',mode='symmetric',maxlevel=5)\n",
    "    return coeffs\n",
    "             \n",
    "def feature_bands(x):\n",
    "    \n",
    "    Bands = np.empty((8,x.shape[0],x.shape[1],54)) # 8 freq band coefficients are chosen from the range 4-32Hz\n",
    "    \n",
    "    for i in range(x.shape[0]):\n",
    "        for ii in range(x.shape[1]):\n",
    "             pos = []\n",
    "             C = wpd(x[i,ii,:]) \n",
    "             pos = np.append(pos,[node.path for node in C.get_level(5, 'natural')])\n",
    "             for b in range(1,9):\n",
    "                 Bands[b-1,i,ii,:] = C[pos[b]].data\n",
    "        \n",
    "    return Bands\n",
    "\n",
    "wpd_data = feature_bands(data)"
   ]
  },
  {
   "cell_type": "code",
   "execution_count": null,
   "id": "8e5df1dd",
   "metadata": {},
   "outputs": [],
   "source": [
    "wpd_data.shape"
   ]
  },
  {
   "cell_type": "code",
   "execution_count": null,
   "id": "2903b73b",
   "metadata": {},
   "outputs": [],
   "source": [
    "from mne.decoding import CSP # Common Spatial Pattern Filtering\n",
    "from sklearn import preprocessing\n",
    "from sklearn.preprocessing import OneHotEncoder\n",
    "from keras.models import Sequential\n",
    "from keras.layers import Dense\n",
    "from keras.layers import Dropout\n",
    "from keras import regularizers\n",
    "from sklearn.model_selection import ShuffleSplit\n",
    "\n",
    "# OneHotEncoding Labels\n",
    "enc = OneHotEncoder()\n",
    "X_out = enc.fit_transform(labels.reshape(-1,1)).toarray()\n",
    "\n",
    "# Cross Validation Split\n",
    "cv = ShuffleSplit(n_splits = 5, test_size = 0.2, random_state = 0)\n",
    "\n",
    "from sklearn.metrics import accuracy_score\n",
    "from sklearn.metrics import cohen_kappa_score\n",
    "from sklearn.metrics import precision_score\n",
    "from sklearn.metrics import recall_score\n",
    "from tensorflow.keras.optimizers.legacy import RMSprop\n",
    "\n",
    "rmsprop=RMSprop()\n",
    "\n",
    "\n"
   ]
  },
  {
   "cell_type": "code",
   "execution_count": null,
   "id": "c3a96e0a",
   "metadata": {},
   "outputs": [],
   "source": [
    "from tensorflow.keras.optimizers.legacy import Adam\n",
    "adam=Adam()"
   ]
  },
  {
   "cell_type": "code",
   "execution_count": null,
   "id": "0d51fcc6",
   "metadata": {},
   "outputs": [],
   "source": [
    "def build_classifier(num_layers = 1):\n",
    "    classifier = Sequential()\n",
    "    #First Layer\n",
    "    classifier.add(Dense(units = 124, kernel_initializer = 'uniform', activation = 'relu', input_dim = 56, \n",
    "                         kernel_regularizer=regularizers.l2(0.01))) # L2 regularization\n",
    "    classifier.add(Dropout(0.25))\n",
    "    # Intermediate Layers\n",
    "    for itr in range(num_layers):\n",
    "        classifier.add(Dense(units = 124, kernel_initializer = 'uniform', activation = 'relu', \n",
    "                             kernel_regularizer=regularizers.l2(0.01))) # L2 regularization\n",
    "        classifier.add(Dropout(0.25))   \n",
    "    # Last Layer\n",
    "    classifier.add(Dense(units = 7, kernel_initializer = 'uniform', activation = 'softmax'))\n",
    "    classifier.compile(optimizer = rmsprop , loss = 'categorical_crossentropy', metrics = ['accuracy'])\n",
    "    return classifier\n"
   ]
  },
  {
   "cell_type": "code",
   "execution_count": null,
   "id": "3329bf1d",
   "metadata": {},
   "outputs": [],
   "source": [
    "acc = []\n",
    "ka = []\n",
    "prec = []\n",
    "recall = []"
   ]
  },
  {
   "cell_type": "code",
   "execution_count": null,
   "id": "373cdd4d",
   "metadata": {},
   "outputs": [],
   "source": [
    " for train_idx, test_idx in cv.split(labels):\n",
    "    \n",
    "    Csp = [];ss = [];nn = [] # empty lists\n",
    "    \n",
    "    label_train, label_test = labels[train_idx], labels[test_idx]\n",
    "    y_train, y_test = X_out[train_idx], X_out[test_idx]\n",
    "    \n",
    "    # CSP filter applied separately for all Frequency band coefficients\n",
    "    \n",
    "    Csp = [CSP(n_components=7, reg=None, log=True, norm_trace=False) for _ in range(8)]\n",
    "    ss = preprocessing.StandardScaler()\n",
    "    X_train = ss.fit_transform(np.concatenate(tuple(Csp[x].fit_transform(wpd_data[x,train_idx,:,:],label_train) for x  in range(8)),axis=-1))\n",
    "\n",
    "    X_test = ss.transform(np.concatenate(tuple(Csp[x].transform(wpd_data[x,test_idx,:,:]) for x  in range(8)),axis=-1))\n",
    "    \n",
    "    nn = build_classifier()  \n",
    "    \n",
    "    "
   ]
  },
  {
   "cell_type": "code",
   "execution_count": null,
   "id": "e87e3d3f",
   "metadata": {},
   "outputs": [],
   "source": [
    "nn.fit(X_train, y_train, batch_size = 32, epochs = 40)\n",
    "    \n",
    "    y_pred = nn.predict(X_test)\n",
    "    pred = (y_pred == y_pred.max(axis=1)[:,None]).astype(int)\n",
    "\n",
    "    acc.append(accuracy_score(y_test.argmax(axis=1), pred.argmax(axis=1)))\n",
    "    ka.append(cohen_kappa_score(y_test.argmax(axis=1), pred.argmax(axis=1)))\n",
    "    prec.append(precision_score(y_test.argmax(axis=1), pred.argmax(axis=1),average='weighted'))\n",
    "    recall.append(recall_score(y_test.argmax(axis=1), pred.argmax(axis=1),average='weighted'))"
   ]
  },
  {
   "cell_type": "code",
   "execution_count": null,
   "id": "75986640",
   "metadata": {},
   "outputs": [],
   "source": [
    "X_train.shape"
   ]
  },
  {
   "cell_type": "code",
   "execution_count": null,
   "id": "8c37f80d",
   "metadata": {},
   "outputs": [],
   "source": []
  },
  {
   "cell_type": "code",
   "execution_count": null,
   "id": "e9275a53",
   "metadata": {},
   "outputs": [],
   "source": []
  },
  {
   "cell_type": "code",
   "execution_count": null,
   "id": "8f7e7791",
   "metadata": {},
   "outputs": [],
   "source": [
    "import pandas as pd\n",
    "\n",
    "scores = {'Accuracy':acc,'Kappa':ka,'Precision':prec,'Recall':recall}\n",
    "\n",
    "Es = pd.DataFrame(scores)\n",
    "\n",
    "avg = {'Accuracy':[np.mean(acc)],'Kappa':[np.mean(ka)],'Precision':[np.mean(prec)],'Recall':[np.mean(recall)]}\n",
    "\n",
    "Avg = pd.DataFrame(avg)\n",
    "\n",
    "\n",
    "T = pd.concat([Es,Avg])\n",
    "\n",
    "#T.index = ['F1','F2','F3','F4','F5','F6','F7','F8','F9','F10','Avg']\n",
    "T.index = ['F1','F2','Avg']\n",
    "T.index.rename('Fold',inplace=True)\n",
    "\n",
    "print(T)"
   ]
  },
  {
   "cell_type": "code",
   "execution_count": null,
   "id": "1702f98a",
   "metadata": {},
   "outputs": [],
   "source": [
    "import tensorflow as tf"
   ]
  },
  {
   "cell_type": "code",
   "execution_count": null,
   "id": "105fd4d6",
   "metadata": {},
   "outputs": [],
   "source": [
    "data.shape"
   ]
  },
  {
   "cell_type": "code",
   "execution_count": null,
   "id": "2a0fd899",
   "metadata": {},
   "outputs": [],
   "source": [
    "class HopefullNet(tf.keras.Model):\n",
    "    \"\"\"\n",
    "    Original HopeFullNet\n",
    "    \"\"\"\n",
    "    def __init__(self, inp_shape = (61,1588)):\n",
    "        super(HopefullNet, self).__init__()\n",
    "        self.inp_shape = inp_shape\n",
    "\n",
    "        self.kernel_size_0 = 20\n",
    "        self.kernel_size_1 = 6\n",
    "        self.drop_rate = 0.5\n",
    "\n",
    "        self.conv1 = tf.keras.layers.Conv1D(filters=32,\n",
    "                                            kernel_size=self.kernel_size_0,\n",
    "                                            activation='relu',\n",
    "                                            padding= \"same\",\n",
    "                                            input_shape=self.inp_shape)\n",
    "        self.batch_n_1 = tf.keras.layers.BatchNormalization()\n",
    "        self.conv2 = tf.keras.layers.Conv1D(filters=32,\n",
    "                                            kernel_size=self.kernel_size_0,\n",
    "                                            activation='relu',\n",
    "                                            padding= \"valid\")\n",
    "        self.batch_n_2 = tf.keras.layers.BatchNormalization()\n",
    "        self.spatial_drop_1 = tf.keras.layers.SpatialDropout1D(self.drop_rate)\n",
    "        self.conv3 = tf.keras.layers.Conv1D(filters=32,\n",
    "                                            kernel_size=self.kernel_size_1,\n",
    "                                            activation='relu',\n",
    "                                            padding= \"valid\")\n",
    "        self.avg_pool1 = tf.keras.layers.AvgPool1D(pool_size=2)\n",
    "        self.conv4 = tf.keras.layers.Conv1D(filters=32,\n",
    "                                            kernel_size=self.kernel_size_1,\n",
    "                                            activation='relu',\n",
    "                                            padding= \"valid\")\n",
    "        self.spatial_drop_2 = tf.keras.layers.SpatialDropout1D(self.drop_rate)\n",
    "        self.flat = tf.keras.layers.Flatten()\n",
    "        self.dense1 = tf.keras.layers.Dense(296, activation='relu')\n",
    "        self.dropout1 = tf.keras.layers.Dropout(self.drop_rate)\n",
    "        self.dense2 = tf.keras.layers.Dense(148, activation='relu')\n",
    "        self.dropout2 = tf.keras.layers.Dropout(self.drop_rate)\n",
    "        self.dense3 = tf.keras.layers.Dense(74, activation='relu')\n",
    "        self.dropout3 = tf.keras.layers.Dropout(self.drop_rate)\n",
    "        self.out = tf.keras.layers.Dense(7, activation='softmax')\n",
    "#     def call(self, input_tensor):\n",
    "#         conv1 = self.conv1(input_tensor)\n",
    "#         batch_n_1 = self.batch_n_1(conv1)\n",
    "#         conv2 = self.conv2(batch_n_1)\n",
    "#         batch_n_2 = self.batch_n_2(conv2)\n",
    "#         spatial_drop_1 = self.spatial_drop_1(batch_n_2)\n",
    "#         conv3 = self.conv3(spatial_drop_1)\n",
    "#         avg_pool1 = self.avg_pool1(conv3)\n",
    "#         conv4 = self.conv4(avg_pool1)\n",
    "#         spatial_drop_2 = self.spatial_drop_2(conv4)\n",
    "#         flat = self.flat(spatial_drop_2)\n",
    "#         dense1 = self.dense1(flat)\n",
    "#         dropout1 = self.dropout1(dense1)\n",
    "#         dense2 = self.dense2(dropout1)\n",
    "#         dropout2 = self.dropout2(dense2)\n",
    "#         return self.out(dropout2)"
   ]
  },
  {
   "cell_type": "code",
   "execution_count": null,
   "id": "ce0bb79c",
   "metadata": {},
   "outputs": [],
   "source": [
    "model1 = HopefullNet()\n",
    "model1.compile(loss='categorical_crossentropy', optimizer=adam, metrics=['accuracy'])"
   ]
  },
  {
   "cell_type": "code",
   "execution_count": null,
   "id": "3a60b1a2",
   "metadata": {},
   "outputs": [],
   "source": [
    "X_out.shape"
   ]
  },
  {
   "cell_type": "code",
   "execution_count": null,
   "id": "b6f8504a",
   "metadata": {},
   "outputs": [],
   "source": [
    "model.fit(tf.stack(data[:340,:,:]),tf.stack(X_out[:340,:]) ,steps_per_epoch = 34, epochs = 10, validation_data=(tf.stack(data[340:,:,:]),tf.stack(X_out[340:,:])),\n",
    "                              validation_steps=1)"
   ]
  },
  {
   "cell_type": "code",
   "execution_count": null,
   "id": "1c53f741",
   "metadata": {},
   "outputs": [],
   "source": [
    "labels.shape"
   ]
  },
  {
   "cell_type": "code",
   "execution_count": null,
   "id": "06b2fd3d",
   "metadata": {},
   "outputs": [],
   "source": [
    "data.shape"
   ]
  },
  {
   "cell_type": "code",
   "execution_count": null,
   "id": "4b08fd5d",
   "metadata": {},
   "outputs": [],
   "source": [
    "from tqdm import tqdm"
   ]
  },
  {
   "cell_type": "code",
   "execution_count": null,
   "id": "04fc062b",
   "metadata": {},
   "outputs": [],
   "source": [
    "wavelet = 'morl'\n",
    "scales = np.arange(1, 32)"
   ]
  },
  {
   "cell_type": "code",
   "execution_count": null,
   "id": "90c90dac",
   "metadata": {},
   "outputs": [],
   "source": [
    "labels.shape"
   ]
  },
  {
   "cell_type": "code",
   "execution_count": null,
   "id": "ca0b3477",
   "metadata": {},
   "outputs": [],
   "source": [
    "import pywt\n",
    "X_train = []\n",
    "for i in tqdm(range(data.shape[0])):\n",
    "    coeffs, freqs = pywt.cwt(data[i], scales, wavelet)\n",
    "    X_train.append(np.abs(coeffs))"
   ]
  },
  {
   "cell_type": "code",
   "execution_count": null,
   "id": "b5f4314c",
   "metadata": {},
   "outputs": [],
   "source": [
    "X_tr = np.array(X_train)"
   ]
  },
  {
   "cell_type": "code",
   "execution_count": null,
   "id": "393ff773",
   "metadata": {},
   "outputs": [],
   "source": [
    "X_tr.shape"
   ]
  },
  {
   "cell_type": "code",
   "execution_count": null,
   "id": "f370f576",
   "metadata": {},
   "outputs": [],
   "source": [
    "X_tr  =  X_tr.reshape(378,61,31,1588)"
   ]
  },
  {
   "cell_type": "code",
   "execution_count": null,
   "id": "d065481b",
   "metadata": {},
   "outputs": [],
   "source": [
    "def minmax(data,flag,obj):\n",
    "    for i in range(data.shape[0]):\n",
    "        for j in range(data.shape[1]):\n",
    "            if flag :\n",
    "                data[i,j,:,:] = obj.fit_transform(data[i,j,:,:])\n",
    "            else:\n",
    "                data[i,j,:,:] = obj.transform(data[i,j,:,:])\n",
    "    return data\n",
    "              "
   ]
  },
  {
   "cell_type": "code",
   "execution_count": null,
   "id": "ed3ab567",
   "metadata": {},
   "outputs": [],
   "source": [
    "import numpy as np\n",
    "import matplotlib.pyplot as plt\n",
    "import pywt\n",
    "\n",
    "# Set wavelet parameters\n",
    "wavelet = 'morl'\n",
    "scales = np.arange(1, 32)\n",
    "\n",
    "# Compute scalogram\n",
    "coeffs, freqs = pywt.cwt(data[73], scales, wavelet)\n",
    "plt.imshow(np.abs(coeffs[:,18,:]), cmap='viridis', aspect='auto')"
   ]
  },
  {
   "cell_type": "code",
   "execution_count": null,
   "id": "02c5fc4b",
   "metadata": {},
   "outputs": [],
   "source": [
    "from keras.utils import to_categorical\n",
    "label=to_categorical(labels)"
   ]
  },
  {
   "cell_type": "code",
   "execution_count": null,
   "id": "19745f84",
   "metadata": {},
   "outputs": [],
   "source": [
    "label.shape"
   ]
  },
  {
   "cell_type": "code",
   "execution_count": null,
   "id": "a610c6ce",
   "metadata": {},
   "outputs": [],
   "source": [
    "from sklearn.model_selection  import train_test_split"
   ]
  },
  {
   "cell_type": "code",
   "execution_count": null,
   "id": "bac89ef6",
   "metadata": {},
   "outputs": [],
   "source": [
    "x_train,x_test ,y_train,y_test = train_test_split(X_tr,label,test_size = 0.25 , random_state =42 , shuffle = True,stratify = label )"
   ]
  },
  {
   "cell_type": "code",
   "execution_count": null,
   "id": "d3ccf3b4",
   "metadata": {},
   "outputs": [],
   "source": [
    "from keras.models import Sequential\n",
    "from keras.layers import Conv2D, MaxPooling2D, Flatten, Dense, Dropout\n",
    "from keras import regularizers\n",
    "from keras.layers import BatchNormalization, Activation,DepthwiseConv2D,SeparableConv2D\n",
    "\n",
    "\n",
    "model = Sequential()\n",
    "model.add(Conv2D(8, (1, 64), padding='same', input_shape=(61, 31, 1588)))\n",
    "model.add(Conv2D(8, (1, 64), padding='same', use_bias=False))\n",
    "model.add(BatchNormalization())\n",
    "model.add(DepthwiseConv2D((22, 1), use_bias=False, depth_multiplier=2))\n",
    "model.add(BatchNormalization())\n",
    "model.add(Conv2D(16, (1, 1), padding='valid', use_bias=False))\n",
    "model.add(BatchNormalization())\n",
    "model.add(Activation('relu'))\n",
    "model.add(MaxPooling2D(pool_size=(1, 4)))\n",
    "model.add(Dropout(0.5))\n",
    "\n",
    "model.add(SeparableConv2D(16, (1, 16), padding='same', use_bias=False))\n",
    "model.add(BatchNormalization())\n",
    "model.add(Activation('relu'))\n",
    "model.add(MaxPooling2D(pool_size=(1, 4)))\n",
    "model.add(Dropout(0.5))\n",
    "\n",
    "model.add(Flatten())\n",
    "model.add(Dense(128, activation='relu', kernel_regularizer=regularizers.l2(0.05)))\n",
    "model.add(Dropout(0.5))\n",
    "model.add(Dense(7, activation='sigmoid'))\n",
    "\n",
    "\n",
    "model.compile(optimizer=adam, loss='categorical_crossentropy', metrics=['accuracy'])"
   ]
  },
  {
   "cell_type": "code",
   "execution_count": null,
   "id": "b67067f5",
   "metadata": {},
   "outputs": [],
   "source": [
    "cv = ShuffleSplit(n_splits = 8, test_size = 0.25, random_state = 42)"
   ]
  },
  {
   "cell_type": "code",
   "execution_count": null,
   "id": "a38d7ac4",
   "metadata": {},
   "outputs": [],
   "source": [
    "accuracy = []\n",
    "loss = []"
   ]
  },
  {
   "cell_type": "code",
   "execution_count": null,
   "id": "726a80ec",
   "metadata": {},
   "outputs": [],
   "source": [
    "import pandas as pd\n",
    "from tqdm import tqdm\n",
    "import matplotlib.pyplot as plt\n",
    "import pywt\n",
    "import numpy as np\n",
    "from sklearn import preprocessing\n",
    "from sklearn.preprocessing import OneHotEncoder\n",
    "from keras.models import Sequential\n",
    "from keras.layers import Dense\n",
    "from keras.layers import Dropout\n",
    "from keras import regularizers\n",
    "from sklearn.model_selection import ShuffleSplit\n",
    "from keras.utils import to_categorical\n",
    "from sklearn.model_selection import ShuffleSplit\n",
    "from sklearn.preprocessing import MinMaxScaler"
   ]
  },
  {
   "cell_type": "code",
   "execution_count": null,
   "id": "fbcdeb1d",
   "metadata": {},
   "outputs": [],
   "source": [
    "for train_idx, test_idx in cv.split(labels):\n",
    "    y_train, y_test = label[train_idx], label[test_idx]\n",
    "    x_train,x_test =  X_tr[train_idx],X_tr[test_idx]\n",
    "    st= MinMaxScaler()\n",
    "    x_train = minmax(x_train,True,st)\n",
    "    x_test = minmax(x_test,False,st)\n",
    "    model.fit(x_train,y_train,validation_data= (x_test,y_test),epochs =15,batch_size =4)\n",
    "    h= model.evaluate(x_test,y_test)\n",
    "    accuracy.append(h[1])\n",
    "    loss.append(h[0])"
   ]
  },
  {
   "cell_type": "code",
   "execution_count": null,
   "id": "0b387f4f",
   "metadata": {},
   "outputs": [],
   "source": []
  },
  {
   "cell_type": "code",
   "execution_count": null,
   "id": "6152ce51",
   "metadata": {},
   "outputs": [],
   "source": [
    "import numpy as np\n",
    "import pandas as pd\n",
    "import time\n",
    "import keras\n",
    "import tensorflow as tf\n",
    "from keras.models import Sequential\n",
    "from keras.layers import LeakyReLU, Dense, Bidirectional, Activation, Flatten, Dropout\n",
    "from keras.layers import Conv2DTranspose, Conv2D, LSTM, BatchNormalization, MaxPooling2D, Reshape\n",
    "from keras.utils import to_categorical\n",
    "from keras.regularizers import L1L2\n",
    "from keras.initializers import lecun_uniform\n",
    "from keras.optimizers import Adam\n",
    "from keras.metrics import categorical_accuracy\n",
    "import matplotlib.pyplot as plt\n",
    "     \n"
   ]
  },
  {
   "cell_type": "code",
   "execution_count": null,
   "id": "7ca189e9",
   "metadata": {},
   "outputs": [],
   "source": [
    "np.random.seed(1)\n",
    "k_initializer = lecun_uniform(seed=42)"
   ]
  },
  {
   "cell_type": "code",
   "execution_count": null,
   "id": "5e15a5b5",
   "metadata": {},
   "outputs": [],
   "source": [
    "def CNN(initializer, debug_mode=False, learning_rate=1e-3):\n",
    "  # Building the CNN model using sequential class\n",
    "  basic_cnn_model = Sequential()\n",
    "\n",
    "  # Conv. block 1\n",
    "  basic_cnn_model.add(Conv2D(filters=25, kernel_size=(10,1), padding='same', activation='elu', input_shape=(61,771)))\n",
    "  basic_cnn_model.add(MaxPooling2D(pool_size=(3,1), padding='same')) \n",
    "  basic_cnn_model.add(BatchNormalization())\n",
    "  basic_cnn_model.add(Dropout(0.5))\n",
    "\n",
    "  # Conv. block 2\n",
    "  basic_cnn_model.add(Conv2D(filters=50, kernel_size=(10,1), padding='same', activation='elu'))\n",
    "  basic_cnn_model.add(MaxPooling2D(pool_size=(3,1), padding='same'))\n",
    "  basic_cnn_model.add(BatchNormalization())\n",
    "  basic_cnn_model.add(Dropout(0.5))\n",
    "\n",
    "  # Conv. block 3\n",
    "  basic_cnn_model.add(Conv2D(filters=100, kernel_size=(10,1), padding='same', activation='elu'))\n",
    "  basic_cnn_model.add(MaxPooling2D(pool_size=(3,1), padding='same'))\n",
    "  basic_cnn_model.add(BatchNormalization())\n",
    "  basic_cnn_model.add(Dropout(0.5))\n",
    "\n",
    "  # Conv. block 4\n",
    "  basic_cnn_model.add(Conv2D(filters=200, kernel_size=(10,1), padding='same', activation='elu'))\n",
    "  basic_cnn_model.add(MaxPooling2D(pool_size=(3,1), padding='same'))\n",
    "  basic_cnn_model.add(BatchNormalization())\n",
    "  basic_cnn_model.add(Dropout(0.5))\n",
    "\n",
    "  # Output layer with Softmax activation\n",
    "  basic_cnn_model.add(Flatten()) # Flattens the input\n",
    "  basic_cnn_model.add(Dense(7, activation='softmax')) # Output FC layer with softmax activation\n",
    "\n",
    "  # Printing the model summary\n",
    "  if debug_mode:\n",
    "    basic_cnn_model.summary()\n",
    "\n",
    "  cnn_optimizer = keras.optimizers.Adam(learning_rate=learning_rate)\n",
    "\n",
    "  # Compiling the model\n",
    "  basic_cnn_model.compile(loss='categorical_crossentropy',\n",
    "                  optimizer=cnn_optimizer,\n",
    "                  metrics=['accuracy'])\n",
    "\n",
    "  return basic_cnn_model\n",
    "     "
   ]
  },
  {
   "cell_type": "code",
   "execution_count": null,
   "id": "16267c0e",
   "metadata": {},
   "outputs": [],
   "source": [
    "def abcyNet(nb_classes, Chans = 64, Samples = 256,\n",
    "                dropoutRate = 0.5):\n",
    "    \"\"\" Keras implementation of the Deep Convolutional Network as described in\n",
    "    Schirrmeister et. al. (2017), Human Brain Mapping.\n",
    "    \n",
    "    This implementation assumes the input is a 2-second EEG signal sampled at \n",
    "    128Hz, as opposed to signals sampled at 250Hz as described in the original\n",
    "    paper. We also perform temporal convolutions of length (1, 5) as opposed\n",
    "    to (1, 10) due to this sampling rate difference. \n",
    "    \n",
    "    Note that we use the max_norm constraint on all convolutional layers, as \n",
    "    well as the classification layer. We also change the defaults for the\n",
    "    BatchNormalization layer. We used this based on a personal communication \n",
    "    with the original authors.\n",
    "    \n",
    "                      ours        original paper\n",
    "    pool_size        1, 2        1, 3\n",
    "    strides          1, 2        1, 3\n",
    "    conv filters     1, 5        1, 10\n",
    "    \n",
    "    Note that this implementation has not been verified by the original \n",
    "    authors. \n",
    "    \n",
    "    \"\"\"\n",
    "\n",
    "    # start the model\n",
    "    input_main   = Input((Chans, Samples, 1))\n",
    "    block1       = Conv2D(25, (1, 5), \n",
    "                                 input_shape=(Chans, Samples, 1),\n",
    "                                 kernel_constraint = max_norm(2., axis=(0,1,2)))(input_main)\n",
    "    block1       = Conv2D(25, (Chans, 1),\n",
    "                                 kernel_constraint = max_norm(2., axis=(0,1,2)))(block1)\n",
    "    block1       = BatchNormalization(epsilon=1e-05, momentum=0.9)(block1)\n",
    "    block1       = Activation('elu')(block1)\n",
    "    block1       = MaxPooling2D(pool_size=(1, 2), strides=(1, 2))(block1)\n",
    "    block1       = Dropout(dropoutRate)(block1)\n",
    "  \n",
    "    block2       = Conv2D(50, (1, 5),\n",
    "                                 kernel_constraint = max_norm(2., axis=(0,1,2)))(block1)\n",
    "    block2       = BatchNormalization(epsilon=1e-05, momentum=0.9)(block2)\n",
    "    block2       = Activation('elu')(block2)\n",
    "    block2       = MaxPooling2D(pool_size=(1, 2), strides=(1, 2))(block2)\n",
    "    block2       = Dropout(dropoutRate)(block2)\n",
    "    \n",
    "    block3       = Conv2D(100, (1, 5),\n",
    "                                 kernel_constraint = max_norm(2., axis=(0,1,2)))(block2)\n",
    "    block3       = BatchNormalization(epsilon=1e-05, momentum=0.9)(block3)\n",
    "    block3       = Activation('elu')(block3)\n",
    "    block3       = MaxPooling2D(pool_size=(1, 2), strides=(1, 2))(block3)\n",
    "    block3       = Dropout(dropoutRate)(block3)\n",
    "    \n",
    "    block4       = Conv2D(200, (1, 5),\n",
    "                                 kernel_constraint = max_norm(2., axis=(0,1,2)))(block3)\n",
    "    block4       = BatchNormalization(epsilon=1e-05, momentum=0.9)(block4)\n",
    "    block4       = Activation('elu')(block4)\n",
    "    block4       = MaxPooling2D(pool_size=(1, 2), strides=(1, 2))(block4)\n",
    "    block4       = Dropout(dropoutRate)(block4)\n",
    "    \n",
    "    flatten      = Flatten()(block4)\n",
    "    \n",
    "    dense        = Dense(nb_classes, kernel_constraint = max_norm(0.5))(flatten)\n",
    "    softmax      = Activation('softmax')(dense)\n",
    "    \n",
    "    return Model(inputs=input_main, outputs=softmax)"
   ]
  },
  {
   "cell_type": "code",
   "execution_count": null,
   "id": "995c9e38",
   "metadata": {},
   "outputs": [],
   "source": []
  }
 ],
 "metadata": {
  "kernelspec": {
   "display_name": "Python 3 (ipykernel)",
   "language": "python",
   "name": "python3"
  },
  "language_info": {
   "codemirror_mode": {
    "name": "ipython",
    "version": 3
   },
   "file_extension": ".py",
   "mimetype": "text/x-python",
   "name": "python",
   "nbconvert_exporter": "python",
   "pygments_lexer": "ipython3",
   "version": "3.10.10"
  }
 },
 "nbformat": 4,
 "nbformat_minor": 5
}
